{
 "cells": [
  {
   "cell_type": "code",
   "execution_count": 2,
   "metadata": {},
   "outputs": [
    {
     "name": "stdout",
     "output_type": "stream",
     "text": [
      "Accuracy: 0.8370\n",
      "Classification Report:\n",
      "               precision    recall  f1-score   support\n",
      "\n",
      " Бывший СССР       0.86      0.67      0.75      6612\n",
      "         Мир       0.78      0.91      0.84     10160\n",
      "      Россия       0.86      0.85      0.86     11001\n",
      "   Экономика       0.89      0.86      0.88      5676\n",
      "\n",
      "    accuracy                           0.84     33449\n",
      "   macro avg       0.85      0.82      0.83     33449\n",
      "weighted avg       0.84      0.84      0.84     33449\n",
      "\n",
      "F1 Score: 0.8352099836729624\n",
      "Precision: 0.841247488241731\n",
      "Recall: 0.8370055906006159\n"
     ]
    }
   ],
   "source": [
    "#Отобрать в датасете lenta.ru топ 4 темы и построить для них модель классификации.\n",
    "import pandas as pd\n",
    "from sklearn.model_selection import train_test_split\n",
    "from sklearn.feature_extraction.text import CountVectorizer\n",
    "from sklearn.ensemble import RandomForestClassifier\n",
    "from sklearn.metrics import accuracy_score, classification_report, f1_score, precision_score, recall_score\n",
    "\n",
    "# Загрузка датасета\n",
    "df = pd.read_csv('lenta-ru-news.csv')\n",
    "\n",
    "# Отбор топ-4 тем\n",
    "top_topics = df['topic'].value_counts().nlargest(4).index.tolist()\n",
    "df_top = df[df['topic'].isin(top_topics)]\n",
    "\n",
    "# Удаление строк с пропущенными значениями в 'text' и 'topic'\n",
    "df_top = df_top.dropna(subset=['text', 'topic'])\n",
    "\n",
    "# Подготовка данных\n",
    "X = df_top['text']  \n",
    "y = df_top['topic']\n",
    "\n",
    "# Преобразование текста в числовые данные\n",
    "vectorizer = CountVectorizer()\n",
    "X_vectorized = vectorizer.fit_transform(X)\n",
    "\n",
    "# Разделение на обучающую и тестовую выборки\n",
    "X_train, X_test, y_train, y_test = train_test_split(X_vectorized, y, test_size=0.2, random_state=42)\n",
    "\n",
    "# Создание и обучение модели\n",
    "model = RandomForestClassifier(random_state=42)\n",
    "model.fit(X_train, y_train)\n",
    "\n",
    "# Прогнозирование на тестовой выборке\n",
    "y_pred = model.predict(X_test)\n",
    "\n",
    "# Оценка качества модели\n",
    "accuracy = accuracy_score(y_test, y_pred)\n",
    "report = classification_report(y_test, y_pred)\n",
    "\n",
    "# Расчет F1, Precision и Recall с указанием average\n",
    "f1 = f1_score(y_test, y_pred, average='weighted')\n",
    "precision = precision_score(y_test, y_pred, average='weighted')\n",
    "recall = recall_score(y_test, y_pred, average='weighted')\n",
    "\n",
    "print(f'Accuracy: {accuracy:.4f}')\n",
    "print('Classification Report:\\n', report)\n",
    "print('F1 Score:', f1)\n",
    "print('Precision:', precision)\n",
    "print('Recall:', recall)\n",
    "\n",
    "\n"
   ]
  }
 ],
 "metadata": {
  "kernelspec": {
   "display_name": "Python 3",
   "language": "python",
   "name": "python3"
  },
  "language_info": {
   "codemirror_mode": {
    "name": "ipython",
    "version": 3
   },
   "file_extension": ".py",
   "mimetype": "text/x-python",
   "name": "python",
   "nbconvert_exporter": "python",
   "pygments_lexer": "ipython3",
   "version": "3.11.9"
  }
 },
 "nbformat": 4,
 "nbformat_minor": 2
}
