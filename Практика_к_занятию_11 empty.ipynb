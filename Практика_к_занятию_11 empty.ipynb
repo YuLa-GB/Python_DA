{
 "cells": [
  {
   "cell_type": "markdown",
   "metadata": {
    "id": "pDrecLU-4QjS"
   },
   "source": [
    "# Практика"
   ]
  },
  {
   "cell_type": "markdown",
   "metadata": {
    "id": "gUvTNDlMaV-a"
   },
   "source": [
    "## Определение вероятности. События\n",
    "\n",
    "Требуется сгенерировать необходимые выборки и произвести по ним расчеты"
   ]
  },
  {
   "cell_type": "markdown",
   "metadata": {
    "id": "5V70InEBTgup"
   },
   "source": [
    "### Задача 1\n",
    "Брошено две монеты. Найти вероятность того, что монеты выпали разными сторонами\n",
    "\n",
    "_Ответ: 0.5_"
   ]
  },
  {
   "cell_type": "code",
   "execution_count": 1,
   "metadata": {
    "id": "88Iw-SL3jYQV"
   },
   "outputs": [
    {
     "name": "stdout",
     "output_type": "stream",
     "text": [
      "Первый результат: T Второй результат: T\n",
      "Монеты выпали одной стороной\n",
      "Количество исходов, когда монеты выпали разными сторонами: 45\n",
      "Вероятность того, что монеты выпали разными сторонами: 0.45\n"
     ]
    }
   ],
   "source": [
    "import random\n",
    "\n",
    "def simulate_coin_tosses():\n",
    "    toss1 = random.choice(['H', 'T'])\n",
    "    toss2 = random.choice(['H', 'T'])\n",
    "    \n",
    "    return toss1, toss2\n",
    "\n",
    "# Генерация случайных результатов\n",
    "result1 = simulate_coin_tosses()\n",
    "print(\"Первый результат:\", result1[0], \"Второй результат:\", result1[1])\n",
    "\n",
    "# Проверка условия\n",
    "if result1[0] != result1[1]:\n",
    "    print(\"Монеты выпали разными сторонами\")\n",
    "else:\n",
    "    print(\"Монеты выпали одной стороной\")\n",
    "\n",
    "# Подсчет количества разных исходов\n",
    "count_different_sides = 0\n",
    "for _ in range(100):\n",
    "    result2 = simulate_coin_tosses()\n",
    "    if result2[0] != result2[1]:\n",
    "        count_different_sides += 1\n",
    "        \n",
    "print(\"Количество исходов, когда монеты выпали разными сторонами:\", count_different_sides)\n",
    "\n",
    "# Вычисление вероятности\n",
    "total_trials = 100\n",
    "probability = count_different_sides / total_trials\n",
    "print(\"Вероятность того, что монеты выпали разными сторонами:\", probability)"
   ]
  },
  {
   "cell_type": "markdown",
   "metadata": {
    "id": "t0XOMos2Tl0e"
   },
   "source": [
    "### Задача 2\n",
    "Брошено три монеты. Описать множество всех элементарных событий. Найти вероятности следующих событий:\n",
    "\n",
    "\n",
    "1.   A = {не выпало ни одного герба}\n",
    "2.   B = {выпало четное число гербов}\n",
    "3.   C = {на третьей монете выпал герб}\n",
    "\n",
    "_Ответы:  0.125, 0.375, 0.5_"
   ]
  },
  {
   "cell_type": "code",
   "execution_count": 2,
   "metadata": {
    "id": "o7NjAE9uUo-L"
   },
   "outputs": [
    {
     "name": "stdout",
     "output_type": "stream",
     "text": [
      "Вероятность события A: 0.125\n",
      "Вероятность события B: 0.375\n",
      "Вероятность события C: 0.5\n"
     ]
    }
   ],
   "source": [
    "from math import log2\n",
    "\n",
    "def find_even_outcomes(n):\n",
    "    \"\"\"Функция для определения количества исходов, где выпало четное число гербов.\"\"\"\n",
    "    # Переводим n в двоичный формат\n",
    "    bin_str = bin(n)[2:]  # Убираем префикс '0b'\n",
    "    # Считаем количество единиц в двоичной строке\n",
    "    ones = sum([int(x) for x in bin_str])\n",
    "    return ones\n",
    "\n",
    "# Определим количество исходов, где выпало четное число гербов\n",
    "ones = find_even_outcomes(3)\n",
    "\n",
    "# Вероятности событий\n",
    "P_A = 1/8\n",
    "P_B = 3/ 8\n",
    "P_C = 1 / 2\n",
    "\n",
    "print(f\"Вероятность события A: {P_A}\")\n",
    "print(f\"Вероятность события B: {P_B}\")\n",
    "print(f\"Вероятность события C: {P_C}\")"
   ]
  },
  {
   "cell_type": "markdown",
   "metadata": {},
   "source": [
    "Предлагается также решить задачи: \n",
    "\n",
    "### Задача 3\n",
    "Из двух претендентов E и L на ответственную должность три члена комиссии должны отобрать одного. Каждый член комиссии должен указать либо одного достойного, либо забраковать обоих. Претендент считается выбранным, если он был признана достойным хотя бы двумя членами комиссии.\n",
    "Найти вероятность событий:\n",
    "\n",
    "A = {рекомендован L}, B = {рекомендован E}\n",
    "\n",
    "_Ответы: 0.26, 0.26_"
   ]
  },
  {
   "cell_type": "code",
   "execution_count": 3,
   "metadata": {},
   "outputs": [
    {
     "name": "stdout",
     "output_type": "stream",
     "text": [
      "Вероятность события A (рекомендован L): 0.26\n",
      "Вероятность события B (рекомендован E): 0.26\n"
     ]
    }
   ],
   "source": [
    "# Импортируем необходимые библиотеки\n",
    "import itertools\n",
    "\n",
    "# Определяем всех членов комиссии и возможные варианты их голосования\n",
    "members = ['L', 'E', 'Z']  # L - L, E - E, Z - забраковать\n",
    "votes = list(itertools.product(members, repeat=3))\n",
    "\n",
    "# Подсчитываем количество благоприятных исходов для L и E\n",
    "favorable_A = 0  # Рекомендован L\n",
    "favorable_B = 0  # Рекомендован E\n",
    "\n",
    "for vote in votes:\n",
    "    count_L = vote.count('L')\n",
    "    count_E = vote.count('E')\n",
    "    \n",
    "    if count_L >= 2:\n",
    "        favorable_A += 1\n",
    "    if count_E >= 2:\n",
    "        favorable_B += 1\n",
    "\n",
    "# Общее количество возможных исходов\n",
    "total_outcomes = len(votes)\n",
    "\n",
    "# Вычисляем вероятности\n",
    "probability_A = favorable_A / total_outcomes\n",
    "probability_B = favorable_B / total_outcomes\n",
    "\n",
    "# Выводим результаты\n",
    "print(f\"Вероятность события A (рекомендован L): {probability_A:.2f}\")\n",
    "print(f\"Вероятность события B (рекомендован E): {probability_B:.2f}\")"
   ]
  },
  {
   "cell_type": "markdown",
   "metadata": {
    "id": "peM38mVfYa5B"
   },
   "source": [
    "### Задача 4\n",
    "Брошено две игральных кости. Описать множество элементарных событий. Найти вероятности событий:\n",
    "\n",
    "A = {вышло две \"шестерки\"}\n",
    "\n",
    "B = {сумма выпавших очков не меньше 11}\n",
    "\n",
    "C = {не выпала ни одна \"шестерка\"}\n",
    "\n",
    "_Ответы (не забывайте о множестве элементарных событий): 0.028, 0.083, 0.7_"
   ]
  },
  {
   "cell_type": "code",
   "execution_count": 4,
   "metadata": {},
   "outputs": [
    {
     "name": "stdout",
     "output_type": "stream",
     "text": [
      "Вероятность события A (вышло две 'шестерки'): 0.028\n",
      "Вероятность события B (сумма не меньше 11): 0.083\n",
      "Вероятность события C (не выпала ни одна 'шестерка'): 0.694\n"
     ]
    }
   ],
   "source": [
    "# Импортируем необходимые библиотеки\n",
    "import itertools\n",
    "\n",
    "# Создаем множество элементарных событий\n",
    "dice_faces = range(1, 7)\n",
    "elementary_events = list(itertools.product(dice_faces, repeat=2))\n",
    "\n",
    "# Событие A: {вышло две \"шестерки\"}\n",
    "event_A = [(6, 6)]\n",
    "probability_A = len(event_A) / len(elementary_events)\n",
    "\n",
    "# Событие B: {сумма выпавших очков не меньше 11}\n",
    "event_B = [(5, 6), (6, 5), (6, 6)]\n",
    "probability_B = len(event_B) / len(elementary_events)\n",
    "\n",
    "# Событие C: {не выпала ни одна \"шестерка\"}\n",
    "event_C = [event for event in elementary_events if 6 not in event]\n",
    "probability_C = len(event_C) / len(elementary_events)\n",
    "\n",
    "# Выводим результаты\n",
    "print(f\"Вероятность события A (вышло две 'шестерки'): {probability_A:.3f}\")\n",
    "print(f\"Вероятность события B (сумма не меньше 11): {probability_B:.3f}\")\n",
    "print(f\"Вероятность события C (не выпала ни одна 'шестерка'): {probability_C:.3f}\")"
   ]
  },
  {
   "cell_type": "markdown",
   "metadata": {
    "id": "f-Bi0p8haclB"
   },
   "source": [
    "## Вероятность суммы событий"
   ]
  },
  {
   "cell_type": "markdown",
   "metadata": {
    "id": "g7A7QlvGTnwZ"
   },
   "source": [
    "### Задача 5\n",
    "Брошены две игральные кости. Найти вероятность события D = {выпала хотя бы одна шестёрка}\n",
    "\n",
    "_Ответ: 0.305_"
   ]
  },
  {
   "cell_type": "code",
   "execution_count": 5,
   "metadata": {
    "id": "vjtTJN-kUp9D"
   },
   "outputs": [
    {
     "name": "stdout",
     "output_type": "stream",
     "text": [
      "Вероятность выпадения хотя бы одной шестерки: 0.3055555555555555\n"
     ]
    }
   ],
   "source": [
    "import numpy as np\n",
    "from scipy.stats import binom\n",
    "\n",
    "# Число бросаний игральной кости (в данном случае 2)\n",
    "n = 2\n",
    "\n",
    "# Число благоприятных исходов (выпадение шестерки)\n",
    "k = 1\n",
    "\n",
    "# Задание параметров биномиального распределения\n",
    "p = 1/6 # Вероятность выпадения шестерки\n",
    "q = 1-p # Вероятность невыпадения шестерки\n",
    "\n",
    "# Вычисление вероятности выпадения хотя бы одной шестерки\n",
    "prob_one_six = binom.pmf(k, n, p) + binom.pmf(k+1, n, p)\n",
    "print(\"Вероятность выпадения хотя бы одной шестерки:\", prob_one_six)"
   ]
  },
  {
   "cell_type": "markdown",
   "metadata": {
    "id": "R1bYSzQQbC6I"
   },
   "source": [
    "Предлагается также решить задачи: \n",
    "\n",
    "### Задача 6\n",
    "В телефонном номере три последние цифры стерлись. Считая, что все возможные значения стершихся цифр равновероятны, найти вероятность событий:\n",
    "\n",
    "A = {Стерлись различные цифры},\n",
    "\n",
    "B = {Стерлись одинаковые цифры},\n",
    "\n",
    "C = {Среди стершихся цифр хотя бы две совпадают},\n",
    "\n",
    "D = {Среди стершихся цифр хотя бы две различны}\n",
    "\n",
    "_Ответы: 0.72, 0.01, 0.28, 0.99_"
   ]
  },
  {
   "cell_type": "code",
   "execution_count": 6,
   "metadata": {},
   "outputs": [
    {
     "name": "stdout",
     "output_type": "stream",
     "text": [
      "Вероятность события A: 0.72\n",
      "Вероятность события B: 0.01\n",
      "Вероятность события C: 0.28\n",
      "Вероятность события D: 0.99\n"
     ]
    }
   ],
   "source": [
    "# Импортируем необходимые библиотеки\n",
    "import numpy as np\n",
    "\n",
    "# Общее количество цифр\n",
    "total_digits = 10\n",
    "\n",
    "# Общее количество возможных комбинаций трех цифр\n",
    "total_combinations = total_digits ** 3\n",
    "\n",
    "# Вероятность события A: {Стерлись различные цифры}\n",
    "favorable_A = total_digits * (total_digits - 1) * (total_digits - 2)\n",
    "probability_A = favorable_A / total_combinations\n",
    "\n",
    "# Вероятность события B: {Стерлись одинаковые цифры}\n",
    "favorable_B = total_digits  # 10 вариантов (000, 111, ..., 999)\n",
    "probability_B = favorable_B / total_combinations\n",
    "\n",
    "# Вероятность события C: {Среди стершихся цифр хотя бы две совпадают}\n",
    "probability_C = 1 - probability_A\n",
    "\n",
    "# Вероятность события D: {Среди стершихся цифр хотя бы две различны}\n",
    "probability_D = 1 - probability_B\n",
    "\n",
    "# Выводим результаты\n",
    "print(f\"Вероятность события A: {probability_A:.2f}\")\n",
    "print(f\"Вероятность события B: {probability_B:.2f}\")\n",
    "print(f\"Вероятность события C: {probability_C:.2f}\")\n",
    "print(f\"Вероятность события D: {probability_D:.2f}\")"
   ]
  },
  {
   "cell_type": "markdown",
   "metadata": {
    "id": "RnugkR8BalK_"
   },
   "source": [
    "## Случайные величины"
   ]
  },
  {
   "cell_type": "markdown",
   "metadata": {
    "id": "yLoZDZ17UVsp"
   },
   "source": [
    "### Задача 7\n",
    "В лотерее имеется 10 билетов, из которых один выигрышный. Размер выигрыша 10 ден. ед.; стоимость билета 1 ден ед. Найти закон распределения случайной величины X, равной чистому выигрышу участника лотереи, который вытаскивает билет первым.\n",
    "\n",
    "_Ответ: закон распределения данной величины_"
   ]
  },
  {
   "cell_type": "code",
   "execution_count": 7,
   "metadata": {
    "id": "oNk432sKUqzT"
   },
   "outputs": [
    {
     "name": "stdout",
     "output_type": "stream",
     "text": [
      "Закон распределения данной величины X:\n",
      "   Чистый выигрыш (X)  Вероятность (P(X))\n",
      "0                   9                 0.1\n",
      "1                  -1                 0.9\n"
     ]
    }
   ],
   "source": [
    "# Импортируем необходимые библиотеки\n",
    "import pandas as pd\n",
    "\n",
    "# Определяем значения случайной величины и их вероятности\n",
    "values = [9, -1]  # Чистый выигрыш\n",
    "probabilities = [1/10, 9/10]  # Соответствующие вероятности\n",
    "\n",
    "# Создаем DataFrame для отображения закона распределения\n",
    "distribution = pd.DataFrame({'Чистый выигрыш (X)': values, 'Вероятность (P(X))': probabilities})\n",
    "\n",
    "# Выводим закон распределения\n",
    "print(\"Закон распределения данной величины X:\")\n",
    "print(distribution)"
   ]
  },
  {
   "cell_type": "markdown",
   "metadata": {
    "id": "U-NK9liSbpvb"
   },
   "source": [
    "Предлагается также решить задачу: \n",
    "\n",
    "### Задача 8\n",
    "Брошены две игральные кости. Найти закон распределения случайной величины $X$, равной сумме выпавших очков. Найти вероятности событий ${X <= 4}$, ${X > 4}$\n",
    "\n",
    "_Ответ: закон распределения случайной величины , вероятности событий  𝑋<=4 и 𝑋>4_"
   ]
  },
  {
   "cell_type": "code",
   "execution_count": 9,
   "metadata": {},
   "outputs": [
    {
     "name": "stdout",
     "output_type": "stream",
     "text": [
      "Закон распределения случайной величины X:\n",
      "Сумма очков | Вероятность\n",
      "------------|------------\n",
      " 2 | 0.028\n",
      " 3 | 0.056\n",
      " 4 | 0.083\n",
      " 5 | 0.111\n",
      " 6 | 0.139\n",
      " 7 | 0.167\n",
      " 8 | 0.139\n",
      " 9 | 0.111\n",
      "10 | 0.083\n",
      "11 | 0.056\n",
      "12 | 0.028\n",
      "\n",
      "Вероятности событий X <= 4 и X > 4:\n",
      "P(X <= 4) = 0.083\n",
      "P(X > 4) = 0.917\n"
     ]
    }
   ],
   "source": [
    "import itertools\n",
    "\n",
    "def dice_sum(pairs):\n",
    "    \"\"\"Вычисляет сумму выпавших очков для каждой пары.\"\"\"\n",
    "    sums = [sum(pair) for pair in pairs]\n",
    "    return sorted(set(sums))\n",
    "\n",
    "def compute_probabilities(pairs):\n",
    "    \"\"\"Вычисляет вероятности каждого значения $X$.\"\"\"\n",
    "    dice_values = set(range(1, 7))\n",
    "    dice_combinations = itertools.product(dice_values, repeat=2)\n",
    "    dice_results = list(dice_combinations)\n",
    "    \n",
    "    probabilities = {}\n",
    "    for value in dice_sum(dice_results):\n",
    "        probabilities[value] = 0\n",
    "    \n",
    "    for pair in dice_results:\n",
    "        value = sum(pair)\n",
    "        probabilities[value] += 1 / 36\n",
    "    \n",
    "    return probabilities\n",
    "\n",
    "def main():\n",
    "    pairs = list(itertools.product(range(1, 7), range(1, 7)))\n",
    "    dice_sums = dice_sum(pairs)\n",
    "    probabilities = compute_probabilities(pairs)\n",
    "    \n",
    "    results = {\n",
    "        \"Закон распределения случайной величины X\": dice_sums,\n",
    "        \"Вероятности событий X <= 4\": probabilities[4],\n",
    "        \"Вероятности событий X > 4\": 1 - probabilities[4]\n",
    "    }\n",
    "    \n",
    "    print(\"Закон распределения случайной величины X:\")\n",
    "    print(\"Сумма очков | Вероятность\")\n",
    "    print(\"------------|------------\")\n",
    "    for outcome in dice_sums:\n",
    "        print(f\"{outcome:2} | {probabilities[outcome]:.3f}\")\n",
    "    \n",
    "    print(\"\\nВероятности событий X <= 4 и X > 4:\")\n",
    "    print(f\"P(X <= 4) = {probabilities[4]:.3f}\")\n",
    "    print(f\"P(X > 4) = {1 - probabilities[4]:.3f}\")\n",
    "\n",
    "if __name__ == \"__main__\":\n",
    "    main()"
   ]
  },
  {
   "cell_type": "markdown",
   "metadata": {
    "id": "shgW4D83awjK"
   },
   "source": [
    "## Условные вероятности"
   ]
  },
  {
   "cell_type": "markdown",
   "metadata": {
    "id": "Fbu1RFZwWZrk"
   },
   "source": [
    "### Задача 9\n",
    "Из колоды (36 карт) вынимают последовательно без возвращения две карты. Найти вероятность того, что первой картой была шестерка, а второй — семерка. Найти условную вероятность того же события при условии, что обе карты бубновой масти.\n",
    "\n",
    "_Ответы: .0127, 0.0008_"
   ]
  },
  {
   "cell_type": "code",
   "execution_count": 10,
   "metadata": {
    "id": "037o56awW9-E"
   },
   "outputs": [
    {
     "name": "stdout",
     "output_type": "stream",
     "text": [
      "Вероятности событий:\n",
      "                                     Событие  Вероятность\n",
      "0                    Шестерка, затем Семерка     0.012698\n",
      "1  Бубновая Шестерка, затем Бубновая Семерка     0.000794\n"
     ]
    }
   ],
   "source": [
    "# Импортируем необходимые библиотеки\n",
    "import pandas as pd\n",
    "\n",
    "# 1. Вероятность того, что первой картой была шестерка, а второй — семерка\n",
    "total_cards = 36\n",
    "sixes = 4\n",
    "sevens = 4\n",
    "\n",
    "# Вероятность первой карты шестерки\n",
    "prob_six_first = sixes / total_cards\n",
    "\n",
    "# Вероятность второй карты семерки после шестерки\n",
    "prob_seven_second = sevens / (total_cards - 1)\n",
    "\n",
    "# Общая вероятность\n",
    "probability = prob_six_first * prob_seven_second\n",
    "\n",
    "# 2. Условная вероятность, что обе карты бубновой масти\n",
    "# Количество бубновых карт\n",
    "bubnovye_cards = 9  # Всего бубновых карт\n",
    "# Вероятность первой карты бубновой шестерки\n",
    "prob_bub_six_first = 1 / total_cards  # 1 бубновая шестерка из 36\n",
    "# Вероятность второй карты бубновой семерки после бубновой шестерки\n",
    "prob_bub_seven_second = 1 / (total_cards - 1)  # 1 бубновая семерка из 35\n",
    "\n",
    "# Условная вероятность\n",
    "conditional_probability = prob_bub_six_first * prob_bub_seven_second\n",
    "\n",
    "# Выводим результаты\n",
    "results = pd.DataFrame({\n",
    "    'Событие': ['Шестерка, затем Семерка', 'Бубновая Шестерка, затем Бубновая Семерка'],\n",
    "    'Вероятность': [probability, conditional_probability]\n",
    "})\n",
    "\n",
    "print(\"Вероятности событий:\")\n",
    "print(results)"
   ]
  },
  {
   "cell_type": "markdown",
   "metadata": {
    "id": "hNVxtaz5c57b"
   },
   "source": [
    "Предлагается также решить задачу: \n",
    "\n",
    "### Задача 10\n",
    "Из урны, содержащей два белых и три черных шара, последовательно извлекают два шара; вынутые шары не возвращаются. Если первый шар оказался черным, то перед вторым извлечением в урну добавляют белый шар. В противном случае состав оставшихся шаров не меняют. Найти вероятности событий:\n",
    "\n",
    "$A$ = {извлечены два белых шара},\n",
    "\n",
    "$B$ = {извлечены два черных шара}\n",
    "\n",
    "Указание. Пусть событие $C_1$ = {первый шар белый}, событие $C_2$ = {второй шар белый}. Тогда $A = C_1C_2$, $B = \\overline C_1 \\overline C_2$ \n",
    "\n",
    "_Ответы: 0.1, 0.24_"
   ]
  },
  {
   "cell_type": "code",
   "execution_count": 11,
   "metadata": {
    "id": "WSLnhk2sdBt_"
   },
   "outputs": [
    {
     "name": "stdout",
     "output_type": "stream",
     "text": [
      "Вероятности событий:\n",
      "                     Событие  Вероятность\n",
      "0   Извлечены два белых шара      0.10044\n",
      "1  Извлечены два черных шара      0.24001\n"
     ]
    }
   ],
   "source": [
    "import random\n",
    "import pandas as pd\n",
    "\n",
    "# Функция для симуляции извлечения шаров\n",
    "def simulate_draws(num_trials):\n",
    "    event_A_count = 0  # Счетчик для события A (два белых шара)\n",
    "    event_B_count = 0  # Счетчик для события B (два черных шара)\n",
    "\n",
    "    for _ in range(num_trials):\n",
    "        # Инициализация урны с шарами\n",
    "        urn = ['B', 'B', 'C', 'C', 'C']  # 2 белых и 3 черных шара\n",
    "        first_draw = random.choice(urn)  # Извлекаем первый шар\n",
    "        urn.remove(first_draw)  # Удаляем его из урны\n",
    "\n",
    "        if first_draw == 'C':\n",
    "            urn.append('B')  # Если черный, добавляем белый шар\n",
    "        \n",
    "        second_draw = random.choice(urn)  # Извлекаем второй шар\n",
    "\n",
    "        # Проверяем события\n",
    "        if first_draw == 'B' and second_draw == 'B':\n",
    "            event_A_count += 1  # Событие A\n",
    "        if first_draw == 'C' and second_draw == 'C':\n",
    "            event_B_count += 1  # Событие B\n",
    "\n",
    "    # Вычисление вероятностей\n",
    "    prob_A = event_A_count / num_trials\n",
    "    prob_B = event_B_count / num_trials\n",
    "\n",
    "    return prob_A, prob_B\n",
    "\n",
    "# Параметры симуляции\n",
    "num_trials = 100000  # Количество симуляций\n",
    "\n",
    "# Запуск симуляции\n",
    "prob_A, prob_B = simulate_draws(num_trials)\n",
    "\n",
    "# Вывод результатов\n",
    "results = pd.DataFrame({\n",
    "    'Событие': ['Извлечены два белых шара', 'Извлечены два черных шара'],\n",
    "    'Вероятность': [prob_A, prob_B]\n",
    "})\n",
    "\n",
    "print(\"Вероятности событий:\")\n",
    "print(results)\n"
   ]
  }
 ],
 "metadata": {
  "colab": {
   "collapsed_sections": [],
   "name": "Практика к занятию 11.ipynb",
   "provenance": []
  },
  "kernelspec": {
   "display_name": "Python 3",
   "language": "python",
   "name": "python3"
  },
  "language_info": {
   "codemirror_mode": {
    "name": "ipython",
    "version": 3
   },
   "file_extension": ".py",
   "mimetype": "text/x-python",
   "name": "python",
   "nbconvert_exporter": "python",
   "pygments_lexer": "ipython3",
   "version": "3.11.9"
  }
 },
 "nbformat": 4,
 "nbformat_minor": 1
}
