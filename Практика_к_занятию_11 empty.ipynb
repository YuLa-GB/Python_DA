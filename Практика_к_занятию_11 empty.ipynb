{
 "cells": [
  {
   "cell_type": "markdown",
   "metadata": {
    "id": "pDrecLU-4QjS"
   },
   "source": [
    "# Практика"
   ]
  },
  {
   "cell_type": "markdown",
   "metadata": {
    "id": "gUvTNDlMaV-a"
   },
   "source": [
    "## Определение вероятности. События\n",
    "\n",
    "Требуется сгенерировать необходимые выборки и произвести по ним расчеты"
   ]
  },
  {
   "cell_type": "markdown",
   "metadata": {
    "id": "5V70InEBTgup"
   },
   "source": [
    "### Задача 1\n",
    "Брошено две монеты. Найти вероятность того, что монеты выпали разными сторонами\n",
    "\n",
    "_Ответ: 0.5_"
   ]
  },
  {
   "cell_type": "code",
   "execution_count": 1,
   "metadata": {
    "id": "88Iw-SL3jYQV"
   },
   "outputs": [
    {
     "name": "stdout",
     "output_type": "stream",
     "text": [
      "Первый результат: H Второй результат: T\n",
      "Монеты выпали разными сторонами\n",
      "Количество исходов, когда монеты выпали разными сторонами: 42\n",
      "Вероятность того, что монеты выпали разными сторонами: 0.42\n"
     ]
    }
   ],
   "source": [
    "import random\n",
    "\n",
    "def simulate_coin_tosses():\n",
    "    toss1 = random.choice(['H', 'T'])\n",
    "    toss2 = random.choice(['H', 'T'])\n",
    "    \n",
    "    return toss1, toss2\n",
    "\n",
    "# Генерация случайных результатов\n",
    "result1 = simulate_coin_tosses()\n",
    "print(\"Первый результат:\", result1[0], \"Второй результат:\", result1[1])\n",
    "\n",
    "# Проверка условия\n",
    "if result1[0] != result1[1]:\n",
    "    print(\"Монеты выпали разными сторонами\")\n",
    "else:\n",
    "    print(\"Монеты выпали одной стороной\")\n",
    "\n",
    "# Подсчет количества разных исходов\n",
    "count_different_sides = 0\n",
    "for _ in range(100):\n",
    "    result2 = simulate_coin_tosses()\n",
    "    if result2[0] != result2[1]:\n",
    "        count_different_sides += 1\n",
    "        \n",
    "print(\"Количество исходов, когда монеты выпали разными сторонами:\", count_different_sides)\n",
    "\n",
    "# Вычисление вероятности\n",
    "total_trials = 100\n",
    "probability = count_different_sides / total_trials\n",
    "print(\"Вероятность того, что монеты выпали разными сторонами:\", probability)"
   ]
  },
  {
   "cell_type": "markdown",
   "metadata": {
    "id": "t0XOMos2Tl0e"
   },
   "source": [
    "### Задача 2\n",
    "Брошено три монеты. Описать множество всех элементарных событий. Найти вероятности следующих событий:\n",
    "\n",
    "\n",
    "1.   A = {не выпало ни одного герба}\n",
    "2.   B = {выпало четное число гербов}\n",
    "3.   C = {на третьей монете выпал герб}\n",
    "\n",
    "_Ответы:  0.125, 0.375, 0.5_"
   ]
  },
  {
   "cell_type": "code",
   "execution_count": 2,
   "metadata": {
    "id": "o7NjAE9uUo-L"
   },
   "outputs": [
    {
     "name": "stdout",
     "output_type": "stream",
     "text": [
      "Вероятность события A: 0.125\n",
      "Вероятность события B: 0.25\n",
      "Вероятность события C: 0.875\n"
     ]
    }
   ],
   "source": [
    "from math import log2\n",
    "\n",
    "def find_even_outcomes(n):\n",
    "    \"\"\"Функция для определения количества исходов, где выпало четное число гербов.\"\"\"\n",
    "    # Переводим n в двоичный формат\n",
    "    bin_str = bin(n)[2:]  # Убираем префикс '0b'\n",
    "    # Считаем количество единиц в двоичной строке\n",
    "    ones = sum([int(x) for x in bin_str])\n",
    "    return ones\n",
    "\n",
    "# Определим количество исходов, где выпало четное число гербов\n",
    "ones = find_even_outcomes(3)\n",
    "\n",
    "# Вероятности событий\n",
    "P_A = 1/8\n",
    "P_B = ones / 8\n",
    "P_C = 7 / 8\n",
    "\n",
    "print(f\"Вероятность события A: {P_A}\")\n",
    "print(f\"Вероятность события B: {P_B}\")\n",
    "print(f\"Вероятность события C: {P_C}\")"
   ]
  },
  {
   "cell_type": "markdown",
   "metadata": {},
   "source": [
    "Предлагается также решить задачи: \n",
    "\n",
    "### Задача 3\n",
    "Из двух претендентов E и L на ответственную должность три члена комиссии должны отобрать одного. Каждый член комиссии должен указать либо одного достойного, либо забраковать обоих. Претендент считается выбранным, если он был признана достойным хотя бы двумя членами комиссии.\n",
    "Найти вероятность событий:\n",
    "\n",
    "A = {рекомендован L}, B = {рекомендован E}\n",
    "\n",
    "_Ответы: 0.26, 0.26_"
   ]
  },
  {
   "cell_type": "code",
   "execution_count": 3,
   "metadata": {},
   "outputs": [
    {
     "name": "stdout",
     "output_type": "stream",
     "text": [
      "Вероятность события A: 0.0\n",
      "Вероятность события B: 1.0\n"
     ]
    }
   ],
   "source": [
    "import itertools\n",
    "\n",
    "def generate_all_combinations(choices):\n",
    "    '''Генерирует все возможные комбинации выборов для каждого члена комиссии'''\n",
    "    choices = list(choices)\n",
    "    combinations = itertools.product(choices, repeat=3)\n",
    "    return combinations\n",
    "\n",
    "def get_selected_candidate(combination):\n",
    "    '''Проверяет, какой кандидат выбран по данной комбинации выборов'''\n",
    "    counts = {}\n",
    "    for choice in combination:\n",
    "        if choice not in counts:\n",
    "            counts[choice] = 1\n",
    "        else:\n",
    "            counts[choice] += 1\n",
    "    selected_candidates = ['L'] if len(list(filter(lambda x: x == 'L', counts))) >= 2 else ['E']\n",
    "    return selected_candidates\n",
    "\n",
    "def calculate_event_probabilities(choices):\n",
    "    all_combinations = list(generate_all_combinations(choices))\n",
    "    event_probabilities = {'A': 0, 'B': 0}\n",
    "    for combination in all_combinations:\n",
    "        selected_candidate = get_selected_candidate(combination)\n",
    "        if selected_candidate == ['L']:\n",
    "            event_probabilities['A'] += 1\n",
    "        elif selected_candidate == ['E']:\n",
    "            event_probabilities['B'] += 1\n",
    "    total_events = len(all_combinations)\n",
    "    for key in event_probabilities:\n",
    "        event_probabilities[key] /= total_events\n",
    "    return event_probabilities\n",
    "\n",
    "def main():\n",
    "    candidates = ['E', 'L']\n",
    "    probabilities = calculate_event_probabilities(candidates)\n",
    "    print('Вероятность события A:', probabilities['A'])\n",
    "    print('Вероятность события B:', probabilities['B'])\n",
    "\n",
    "if __name__ == \"__main__\":\n",
    "    main()"
   ]
  },
  {
   "cell_type": "markdown",
   "metadata": {
    "id": "peM38mVfYa5B"
   },
   "source": [
    "### Задача 4\n",
    "Брошено две игральных кости. Описать множество элементарных событий. Найти вероятности событий:\n",
    "\n",
    "A = {вышло две \"шестерки\"}\n",
    "\n",
    "B = {сумма выпавших очков не меньше 11}\n",
    "\n",
    "C = {не выпала ни одна \"шестерка\"}\n",
    "\n",
    "_Ответы (не забывайте о множестве элементарных событий): 0.028, 0.083, 0.7_"
   ]
  },
  {
   "cell_type": "code",
   "execution_count": 4,
   "metadata": {},
   "outputs": [
    {
     "name": "stdout",
     "output_type": "stream",
     "text": [
      "Вероятность события A: 1.0\n",
      "Вероятность события B: 3.0\n",
      "Вероятность события C: 35.0\n"
     ]
    }
   ],
   "source": [
    "import itertools\n",
    "\n",
    "def dice_roll_pairs():\n",
    "    \"\"\"Генерирует все возможные пары чисел от 1 до 6 для двух костей.\"\"\"\n",
    "    return itertools.product(range(1, 7), range(1, 7))\n",
    "\n",
    "def find_sum_of_pair(pair):\n",
    "    \"\"\"Находит сумму чисел в паре.\"\"\"\n",
    "    return pair[0] + pair[1]\n",
    "\n",
    "def filter_by_condition(pairs, condition):\n",
    "    \"\"\"Фильтрует пары согласно условию.\"\"\"\n",
    "    filtered_pairs = []\n",
    "    for pair in pairs:\n",
    "        if condition(find_sum_of_pair(pair)):\n",
    "            filtered_pairs.append(pair)\n",
    "    return filtered_pairs\n",
    "\n",
    "def calculate_probability(event_pairs, total_pairs):\n",
    "    \"\"\"Рассчитывает вероятность события.\"\"\"\n",
    "    return len(event_pairs) / 1\n",
    "\n",
    "def main():\n",
    "    pairs = list(dice_roll_pairs())\n",
    "    total_pairs = len(pairs)\n",
    "    \n",
    "    def is_two_sixes(sum_value):\n",
    "        return sum_value == 12\n",
    "    \n",
    "    def is_not_less_than_eleven(sum_value):\n",
    "        return sum_value >= 11\n",
    "    \n",
    "    def no_sixes(sum_value):\n",
    "        return sum_value < 12\n",
    "    \n",
    "    a_pairs = filter_by_condition(pairs, is_two_sixes)\n",
    "    b_pairs = filter_by_condition(pairs, is_not_less_than_eleven)\n",
    "    c_pairs = filter_by_condition(pairs, no_sixes)\n",
    "    \n",
    "    p_a = calculate_probability(a_pairs, total_pairs)\n",
    "    p_b = calculate_probability(b_pairs, total_pairs)\n",
    "    p_c = calculate_probability(c_pairs, total_pairs)\n",
    "    \n",
    "    print(f\"Вероятность события A: {p_a}\")\n",
    "    print(f\"Вероятность события B: {p_b}\")\n",
    "    print(f\"Вероятность события C: {p_c}\")\n",
    "\n",
    "if __name__ == \"__main__\":\n",
    "    main()"
   ]
  },
  {
   "cell_type": "markdown",
   "metadata": {
    "id": "f-Bi0p8haclB"
   },
   "source": [
    "## Вероятность суммы событий"
   ]
  },
  {
   "cell_type": "markdown",
   "metadata": {
    "id": "g7A7QlvGTnwZ"
   },
   "source": [
    "### Задача 5\n",
    "Брошены две игральные кости. Найти вероятность события D = {выпала хотя бы одна шестёрка}\n",
    "\n",
    "_Ответ: 0.305_"
   ]
  },
  {
   "cell_type": "code",
   "execution_count": 5,
   "metadata": {
    "id": "vjtTJN-kUp9D"
   },
   "outputs": [
    {
     "name": "stdout",
     "output_type": "stream",
     "text": [
      "Вероятность события D = 0.3047\n"
     ]
    }
   ],
   "source": [
    "import numpy as np\n",
    "\n",
    "# Функция для генерации случайного числа от 1 до 6\n",
    "def roll_die():\n",
    "    return np.random.randint(1, 7)\n",
    "\n",
    "# Количество бросаний кубиков\n",
    "N = 10000\n",
    "\n",
    "# Инициализация массива для хранения результатов\n",
    "results = []\n",
    "\n",
    "for _ in range(N):\n",
    "    # Бросок первого кубика\n",
    "    die1 = roll_die()\n",
    "    \n",
    "    # Бросок второго кубика\n",
    "    die2 = roll_die()\n",
    "    \n",
    "    # Проверка наличия хотя бы одной шестерки\n",
    "    if die1 == 6 or die2 == 6:\n",
    "        results.append('Выпала хотя бы одна шестерка')\n",
    "    else:\n",
    "        results.append('Не выпала ни одна шестерка')\n",
    "\n",
    "# Подсчет количества случаев, когда выпала хотя бы одна шестерка\n",
    "count_at_least_one_six = results.count('Выпала хотя бы одна шестерка')\n",
    "\n",
    "# Вычисление вероятности события D\n",
    "probability_of_event_D = count_at_least_one_six / N\n",
    "print(\"Вероятность события D =\", probability_of_event_D)"
   ]
  },
  {
   "cell_type": "markdown",
   "metadata": {
    "id": "R1bYSzQQbC6I"
   },
   "source": [
    "Предлагается также решить задачи: \n",
    "\n",
    "### Задача 6\n",
    "В телефонном номере три последние цифры стерлись. Считая, что все возможные значения стершихся цифр равновероятны, найти вероятность событий:\n",
    "\n",
    "A = {Стерлись различные цифры},\n",
    "\n",
    "B = {Стерлись одинаковые цифры},\n",
    "\n",
    "C = {Среди стершихся цифр хотя бы две совпадают},\n",
    "\n",
    "D = {Среди стершихся цифр хотя бы две различны}\n",
    "\n",
    "_Ответы: 0.72, 0.01, 0.28, 0.99_"
   ]
  },
  {
   "cell_type": "code",
   "execution_count": 6,
   "metadata": {},
   "outputs": [
    {
     "name": "stdout",
     "output_type": "stream",
     "text": [
      "Вероятность события A: 0.12\n",
      "Вероятность события B: 0.0\n",
      "Вероятность события C: 0.0\n",
      "Вероятность события D: 0.12\n"
     ]
    }
   ],
   "source": [
    "import itertools\n",
    "\n",
    "def events_probabilities(number_digits):\n",
    "    \"\"\"Рассчитывает вероятности событий для стертых цифр.\"\"\"\n",
    "    digits = set(range(10))\n",
    "    digit_variants = digits.copy()\n",
    "    \n",
    "    def is_unique(numbers):\n",
    "        return len(set(numbers)) == len(numbers)\n",
    "    \n",
    "    def is_repeated(numbers):\n",
    "        return len(set(numbers)) < len(numbers)\n",
    "    \n",
    "    def are_all_equal(numbers):\n",
    "        return len(set(numbers)) == 1\n",
    "    \n",
    "    def are_nonequal(numbers):\n",
    "        return len(set(numbers)) > 1\n",
    "    \n",
    "    def count_variants(is_condition):\n",
    "        counter = 0\n",
    "        for digits in itertools.combinations(digit_variants, number_digits):\n",
    "            if is_condition(digits):\n",
    "                counter += 1\n",
    "        return counter\n",
    "    \n",
    "    def unique_variants():\n",
    "        return count_variants(is_unique)\n",
    "    \n",
    "    def repeated_variants():\n",
    "        return count_variants(is_repeated)\n",
    "    \n",
    "    def all_equal_variants():\n",
    "        return count_variants(are_all_equal)\n",
    "    \n",
    "    def nonequal_variants():\n",
    "        return count_variants(are_nonequal)\n",
    "    \n",
    "    variants_total = pow(10, number_digits)\n",
    "    \n",
    "    unique_probability = unique_variants() / variants_total\n",
    "    repeated_probability = repeated_variants() / variants_total\n",
    "    all_equal_probability = all_equal_variants() / variants_total\n",
    "    nonequal_probability = nonequal_variants() / variants_total\n",
    "    \n",
    "    return unique_probability, repeated_probability, all_equal_probability, nonequal_probability\n",
    "\n",
    "def main():\n",
    "    unique_probability, repeated_probability, all_equal_probability, nonequal_probability = events_probabilities(3)\n",
    "    print(f\"Вероятность события A: {unique_probability}\")\n",
    "    print(f\"Вероятность события B: {repeated_probability}\")\n",
    "    print(f\"Вероятность события C: {all_equal_probability}\")\n",
    "    print(f\"Вероятность события D: {nonequal_probability}\")\n",
    "\n",
    "if __name__ == \"__main__\":\n",
    "    main()"
   ]
  },
  {
   "cell_type": "markdown",
   "metadata": {
    "id": "RnugkR8BalK_"
   },
   "source": [
    "## Случайные величины"
   ]
  },
  {
   "cell_type": "markdown",
   "metadata": {
    "id": "yLoZDZ17UVsp"
   },
   "source": [
    "### Задача 7\n",
    "В лотерее имеется 10 билетов, из которых один выигрышный. Размер выигрыша 10 ден. ед.; стоимость билета 1 ден ед. Найти закон распределения случайной величины X, равной чистому выигрышу участника лотереи, который вытаскивает билет первым.\n",
    "\n",
    "_Ответ: закон распределения данной величины_"
   ]
  },
  {
   "cell_type": "code",
   "execution_count": 7,
   "metadata": {
    "id": "oNk432sKUqzT"
   },
   "outputs": [
    {
     "name": "stdout",
     "output_type": "stream",
     "text": [
      "Закон распределения случайной величины X:\n",
      "Чистый выигрыш | Вероятность\n",
      "---------------|-------------\n",
      "9.0 | 0.10\n",
      "-1.0 | 0.90\n"
     ]
    }
   ],
   "source": [
    "import numpy as np\n",
    "\n",
    "def law_distribution(winnings, ticket_cost):\n",
    "    winnings_array = np.full((2,), fill_value=float('nan'))\n",
    "    winning_probs = np.full((2,), fill_value=float('nan'))\n",
    "    \n",
    "    winnings_array[0] = winnings - ticket_cost\n",
    "    winnings_array[1] = -ticket_cost\n",
    "    \n",
    "    winning_probs[0] = 1 / 10\n",
    "    winning_probs[1] = 9 / 10\n",
    "    \n",
    "    return winnings_array, winning_probs\n",
    "\n",
    "def main():\n",
    "    winnings, ticket_cost = 10, 1\n",
    "    winnings_array, winning_probs = law_distribution(winnings, ticket_cost)\n",
    "    \n",
    "    print(\"Закон распределения случайной величины X:\")\n",
    "    print(\"Чистый выигрыш | Вероятность\")\n",
    "    print(\"---------------|-------------\")\n",
    "    for i in range(2):\n",
    "        print(f\"{winnings_array[i]} | {winning_probs[i]:.2f}\")\n",
    "\n",
    "if __name__ == \"__main__\":\n",
    "    main()"
   ]
  },
  {
   "cell_type": "markdown",
   "metadata": {
    "id": "U-NK9liSbpvb"
   },
   "source": [
    "Предлагается также решить задачу: \n",
    "\n",
    "### Задача 8\n",
    "Брошены две игральные кости. Найти закон распределения случайной величины $X$, равной сумме выпавших очков. Найти вероятности событий ${X <= 4}$, ${X > 4}$\n",
    "\n",
    "_Ответ: закон распределения случайной величины , вероятности событий  𝑋<=4 и 𝑋>4_"
   ]
  },
  {
   "cell_type": "code",
   "execution_count": 8,
   "metadata": {},
   "outputs": [
    {
     "name": "stdout",
     "output_type": "stream",
     "text": [
      "Закон распределения случайной величины X:\n",
      "Сумма очков | Вероятность\n",
      "------------|------------\n",
      " 2 | 0.028\n",
      " 3 | 0.056\n",
      " 4 | 0.083\n",
      " 5 | 0.111\n",
      " 6 | 0.139\n",
      " 7 | 0.167\n",
      " 8 | 0.139\n",
      " 9 | 0.111\n",
      "10 | 0.083\n",
      "11 | 0.056\n",
      "12 | 0.028\n",
      "\n",
      "Вероятности событий X <= 4 и X > 4:\n",
      "P(X <= 4) = 0.083\n",
      "P(X > 4) = 0.917\n"
     ]
    }
   ],
   "source": [
    "import itertools\n",
    "\n",
    "def dice_sum(pairs):\n",
    "    \"\"\"Вычисляет сумму выпавших очков для каждой пары.\"\"\"\n",
    "    sums = [sum(pair) for pair in pairs]\n",
    "    return sorted(set(sums))\n",
    "\n",
    "def compute_probabilities(pairs):\n",
    "    \"\"\"Вычисляет вероятности каждого значения $X$.\"\"\"\n",
    "    dice_values = set(range(1, 7))\n",
    "    dice_combinations = itertools.product(dice_values, repeat=2)\n",
    "    dice_results = list(dice_combinations)\n",
    "    \n",
    "    probabilities = {}\n",
    "    for value in dice_sum(dice_results):\n",
    "        probabilities[value] = 0\n",
    "    \n",
    "    for pair in dice_results:\n",
    "        value = sum(pair)\n",
    "        probabilities[value] += 1 / 36\n",
    "    \n",
    "    return probabilities\n",
    "\n",
    "def main():\n",
    "    pairs = list(itertools.product(range(1, 7), range(1, 7)))\n",
    "    dice_sums = dice_sum(pairs)\n",
    "    probabilities = compute_probabilities(pairs)\n",
    "    \n",
    "    results = {\n",
    "        \"Закон распределения случайной величины X\": dice_sums,\n",
    "        \"Вероятности событий X <= 4\": probabilities[4],\n",
    "        \"Вероятности событий X > 4\": 1 - probabilities[4]\n",
    "    }\n",
    "    \n",
    "    print(\"Закон распределения случайной величины X:\")\n",
    "    print(\"Сумма очков | Вероятность\")\n",
    "    print(\"------------|------------\")\n",
    "    for outcome in dice_sums:\n",
    "        print(f\"{outcome:2} | {probabilities[outcome]:.3f}\")\n",
    "    \n",
    "    print(\"\\nВероятности событий X <= 4 и X > 4:\")\n",
    "    print(f\"P(X <= 4) = {probabilities[4]:.3f}\")\n",
    "    print(f\"P(X > 4) = {1 - probabilities[4]:.3f}\")\n",
    "\n",
    "if __name__ == \"__main__\":\n",
    "    main()"
   ]
  },
  {
   "cell_type": "markdown",
   "metadata": {
    "id": "shgW4D83awjK"
   },
   "source": [
    "## Условные вероятности"
   ]
  },
  {
   "cell_type": "markdown",
   "metadata": {
    "id": "Fbu1RFZwWZrk"
   },
   "source": [
    "### Задача 9\n",
    "Из колоды (36 карт) вынимают последовательно без возвращения две карты. Найти вероятность того, что первой картой была шестерка, а второй — семерка. Найти условную вероятность того же события при условии, что обе карты бубновой масти.\n",
    "\n",
    "_Ответы: .0127, 0.0008_"
   ]
  },
  {
   "cell_type": "code",
   "execution_count": 9,
   "metadata": {
    "id": "037o56awW9-E"
   },
   "outputs": [
    {
     "name": "stdout",
     "output_type": "stream",
     "text": [
      "Общая вероятность: 0.0127\n",
      "Условная вероятность: 0.0139\n"
     ]
    }
   ],
   "source": [
    "import math\n",
    "\n",
    "def choose(n, k):\n",
    "    \"\"\"Функция для вычисления числа сочетаний.\"\"\"\n",
    "    return math.factorial(n) // (math.factorial(k) * math.factorial(n - k))\n",
    "\n",
    "def main():\n",
    "    # Общая вероятность\n",
    "    total_cards = 36\n",
    "    first_card_prob = 4 / total_cards\n",
    "    second_card_prob = 4 / (total_cards - 1)\n",
    "    overall_probability = first_card_prob * second_card_prob\n",
    "    print(f\"Общая вероятность: {overall_probability:.4f}\")\n",
    "    \n",
    "    # Условная вероятность\n",
    "    total_hearts = 9\n",
    "    conditional_first_card_prob = 1 / total_hearts\n",
    "    conditional_second_card_prob = 1 / (total_hearts - 1)\n",
    "    conditional_probability = conditional_first_card_prob * conditional_second_card_prob\n",
    "    print(f\"Условная вероятность: {conditional_probability:.4f}\")\n",
    "\n",
    "if __name__ == \"__main__\":\n",
    "    main()"
   ]
  },
  {
   "cell_type": "markdown",
   "metadata": {
    "id": "hNVxtaz5c57b"
   },
   "source": [
    "Предлагается также решить задачу: \n",
    "\n",
    "### Задача 10\n",
    "Из урны, содержащей два белых и три черных шара, последовательно извлекают два шара; вынутые шары не возвращаются. Если первый шар оказался черным, то перед вторым извлечением в урну добавляют белый шар. В противном случае состав оставшихся шаров не меняют. Найти вероятности событий:\n",
    "\n",
    "$A$ = {извлечены два белых шара},\n",
    "\n",
    "$B$ = {извлечены два черных шара}\n",
    "\n",
    "Указание. Пусть событие $C_1$ = {первый шар белый}, событие $C_2$ = {второй шар белый}. Тогда $A = C_1C_2$, $B = \\overline C_1 \\overline C_2$ \n",
    "\n",
    "_Ответы: 0.1, 0.24_"
   ]
  },
  {
   "cell_type": "code",
   "execution_count": 10,
   "metadata": {
    "id": "WSLnhk2sdBt_"
   },
   "outputs": [
    {
     "name": "stdout",
     "output_type": "stream",
     "text": [
      "Вероятность события A: 0.5\n",
      "Вероятность события B: 0.3\n"
     ]
    }
   ],
   "source": [
    "import math\n",
    "\n",
    "def probability_event(n_white, n_black, draw_white, add_white):\n",
    "    \"\"\"Функция для вычисления вероятности события.\"\"\"\n",
    "    total_balls = n_white + n_black\n",
    "    initial_draw_white = n_white / total_balls\n",
    "    after_initial_draw_white = initial_draw_white\n",
    "    if draw_white and add_white:\n",
    "        after_initial_draw_white += 1 / total_balls\n",
    "    final_draw_white = after_initial_draw_white * (total_balls - 1) / total_balls\n",
    "    return final_draw_white\n",
    "\n",
    "def main():\n",
    "    white_balls = 2\n",
    "    black_balls = 3\n",
    "    draw_white_ball = True\n",
    "    add_white_ball = True\n",
    "    \n",
    "    event_A = probability_event(white_balls, black_balls, draw_white_ball, add_white_ball)\n",
    "    event_B = probability_event(white_balls, black_balls, False, False)\n",
    "    \n",
    "    print(f\"Вероятность события A: {event_A:.1f}\")\n",
    "    print(f\"Вероятность события B: {event_B:.1f}\")\n",
    "\n",
    "if __name__ == \"__main__\":\n",
    "    main()"
   ]
  }
 ],
 "metadata": {
  "colab": {
   "collapsed_sections": [],
   "name": "Практика к занятию 11.ipynb",
   "provenance": []
  },
  "kernelspec": {
   "display_name": "Python 3 (ipykernel)",
   "language": "python",
   "name": "python3"
  },
  "language_info": {
   "codemirror_mode": {
    "name": "ipython",
    "version": 3
   },
   "file_extension": ".py",
   "mimetype": "text/x-python",
   "name": "python",
   "nbconvert_exporter": "python",
   "pygments_lexer": "ipython3",
   "version": "3.11.9"
  }
 },
 "nbformat": 4,
 "nbformat_minor": 1
}
