{
 "cells": [
  {
   "cell_type": "markdown",
   "metadata": {
    "cellId": "fcbf6fbf-2b56-4f42-a4fb-7811fa6a6f80"
   },
   "source": [
    "В файле <i>orders</i> представлена информация о заказах в онлайн-магазине.\n",
    "```\n",
    "OrderID - ID Заказа,\n",
    "UserID - ID клиента,\n",
    "OrderTime - время заказа,\n",
    "items - список элементов в заказе, каждый элемент описан словарем:\n",
    "    ItemID  - ID продукта, \n",
    "    price - цена единицы товара, \n",
    "    quantity - количество единиц товара в заказе\n",
    "```\n",
    "В файле <i>categories</i> представлена информация о категории товаров.\n",
    "```\n",
    "ItemID - ID продукта,\n",
    "Category - категория продукта,\n",
    "ParentCategory - более крупная категория продукта\n",
    "```"
   ]
  },
  {
   "cell_type": "markdown",
   "metadata": {
    "cellId": "c2366c6a-18f2-4dda-95d9-a80b59612f29"
   },
   "source": [
    "## Анализ логов продуктового магазина"
   ]
  },
  {
   "cell_type": "markdown",
   "metadata": {
    "cellId": "e534da09-d249-4101-af31-2d3a7b264697",
    "execution_id": "d9694136-09e6-49f8-81b9-063ed9896e0e"
   },
   "source": [
    "Представьте, что вы работаете аналитиком онлайн-магазина и ваша цель - повысить GMV (суммарную выручку от продажи товаров). Для этого вы хотите провести ряд исследований и придумать какие-то меры для увеличения выручки."
   ]
  },
  {
   "cell_type": "markdown",
   "metadata": {},
   "source": [
    "* Определите, какого числа было сделано больше всего заказов?\n",
    "* Найдите топ-3 ParentCategory по GMV (суммарная выручка, которую принесла продажа товаров этой категории)\n",
    "* Напишите функцию, которая принимает на вход OrderID и рекомендует ItemID продукта для корзины этого заказа. Проверьте работу этой функции."
   ]
  },
  {
   "cell_type": "code",
   "execution_count": 1,
   "metadata": {},
   "outputs": [
    {
     "name": "stdout",
     "output_type": "stream",
     "text": [
      "Requirement already satisfied: pandas in c:\\users\\warcr\\appdata\\local\\packages\\pythonsoftwarefoundation.python.3.11_qbz5n2kfra8p0\\localcache\\local-packages\\python311\\site-packages (2.2.2)\n",
      "Requirement already satisfied: numpy in c:\\users\\warcr\\appdata\\local\\packages\\pythonsoftwarefoundation.python.3.11_qbz5n2kfra8p0\\localcache\\local-packages\\python311\\site-packages (2.1.1)\n",
      "Requirement already satisfied: python-dateutil>=2.8.2 in c:\\users\\warcr\\appdata\\local\\packages\\pythonsoftwarefoundation.python.3.11_qbz5n2kfra8p0\\localcache\\local-packages\\python311\\site-packages (from pandas) (2.9.0.post0)\n",
      "Requirement already satisfied: pytz>=2020.1 in c:\\users\\warcr\\appdata\\local\\packages\\pythonsoftwarefoundation.python.3.11_qbz5n2kfra8p0\\localcache\\local-packages\\python311\\site-packages (from pandas) (2024.2)\n",
      "Requirement already satisfied: tzdata>=2022.7 in c:\\users\\warcr\\appdata\\local\\packages\\pythonsoftwarefoundation.python.3.11_qbz5n2kfra8p0\\localcache\\local-packages\\python311\\site-packages (from pandas) (2024.1)\n",
      "Requirement already satisfied: six>=1.5 in c:\\users\\warcr\\appdata\\local\\packages\\pythonsoftwarefoundation.python.3.11_qbz5n2kfra8p0\\localcache\\local-packages\\python311\\site-packages (from python-dateutil>=2.8.2->pandas) (1.16.0)\n",
      "Note: you may need to restart the kernel to use updated packages.\n"
     ]
    },
    {
     "name": "stderr",
     "output_type": "stream",
     "text": [
      "\n",
      "[notice] A new release of pip is available: 24.0 -> 24.2\n",
      "[notice] To update, run: C:\\Users\\warcr\\AppData\\Local\\Microsoft\\WindowsApps\\PythonSoftwareFoundation.Python.3.11_qbz5n2kfra8p0\\python.exe -m pip install --upgrade pip\n"
     ]
    }
   ],
   "source": [
    "%pip install pandas numpy"
   ]
  },
  {
   "cell_type": "code",
   "execution_count": 2,
   "metadata": {
    "cellId": "o451uej02dbxv838otnfia",
    "execution": {
     "iopub.execute_input": "2024-09-03T06:53:50.442286Z",
     "iopub.status.busy": "2024-09-03T06:53:50.441271Z",
     "iopub.status.idle": "2024-09-03T06:53:50.459492Z",
     "shell.execute_reply": "2024-09-03T06:53:50.458783Z",
     "shell.execute_reply.started": "2024-09-03T06:53:50.442232Z"
    },
    "tags": []
   },
   "outputs": [],
   "source": [
    "import pandas as pd"
   ]
  },
  {
   "cell_type": "code",
   "execution_count": 3,
   "metadata": {},
   "outputs": [],
   "source": [
    "# Для скачивания файлов из репозитория в Colab \n",
    "# !wget https://raw.githubusercontent.com/da-python/new-modul-python/main/Lesson4/hometask/data/categories.csv -P data\n",
    "# !wget https://raw.githubusercontent.com/da-python/new-modul-python/main/Lesson4/hometask/data/orders.json -P data"
   ]
  },
  {
   "cell_type": "code",
   "execution_count": 3,
   "metadata": {},
   "outputs": [],
   "source": [
    "categories = pd.read_csv('data/categories.csv')\n",
    "orders = pd.read_json('data/orders.json')"
   ]
  },
  {
   "cell_type": "code",
   "execution_count": 4,
   "metadata": {
    "cellId": "dpa7vr5444k37cid25ttkw",
    "execution": {
     "iopub.execute_input": "2024-09-03T06:54:13.946114Z",
     "iopub.status.busy": "2024-09-03T06:54:13.944989Z",
     "iopub.status.idle": "2024-09-03T06:54:14.910631Z",
     "shell.execute_reply": "2024-09-03T06:54:14.909821Z",
     "shell.execute_reply.started": "2024-09-03T06:54:13.946072Z"
    },
    "tags": []
   },
   "outputs": [
    {
     "data": {
      "text/html": [
       "<div>\n",
       "<style scoped>\n",
       "    .dataframe tbody tr th:only-of-type {\n",
       "        vertical-align: middle;\n",
       "    }\n",
       "\n",
       "    .dataframe tbody tr th {\n",
       "        vertical-align: top;\n",
       "    }\n",
       "\n",
       "    .dataframe thead th {\n",
       "        text-align: right;\n",
       "    }\n",
       "</style>\n",
       "<table border=\"1\" class=\"dataframe\">\n",
       "  <thead>\n",
       "    <tr style=\"text-align: right;\">\n",
       "      <th></th>\n",
       "      <th>ItemID</th>\n",
       "      <th>Category</th>\n",
       "      <th>ParentCategory</th>\n",
       "    </tr>\n",
       "  </thead>\n",
       "  <tbody>\n",
       "    <tr>\n",
       "      <th>0</th>\n",
       "      <td>1000002</td>\n",
       "      <td>Сладости для диабетиков</td>\n",
       "      <td>Сладости</td>\n",
       "    </tr>\n",
       "    <tr>\n",
       "      <th>1</th>\n",
       "      <td>1000046</td>\n",
       "      <td>Вода</td>\n",
       "      <td>Напитки</td>\n",
       "    </tr>\n",
       "    <tr>\n",
       "      <th>2</th>\n",
       "      <td>1000048</td>\n",
       "      <td>Сладости для диабетиков</td>\n",
       "      <td>Сладости</td>\n",
       "    </tr>\n",
       "    <tr>\n",
       "      <th>3</th>\n",
       "      <td>1000049</td>\n",
       "      <td>Вода</td>\n",
       "      <td>Напитки</td>\n",
       "    </tr>\n",
       "    <tr>\n",
       "      <th>4</th>\n",
       "      <td>1000061</td>\n",
       "      <td>Фрукты</td>\n",
       "      <td>Овощи и фрукты</td>\n",
       "    </tr>\n",
       "  </tbody>\n",
       "</table>\n",
       "</div>"
      ],
      "text/plain": [
       "    ItemID                 Category  ParentCategory\n",
       "0  1000002  Сладости для диабетиков        Сладости\n",
       "1  1000046                     Вода         Напитки\n",
       "2  1000048  Сладости для диабетиков        Сладости\n",
       "3  1000049                     Вода         Напитки\n",
       "4  1000061                   Фрукты  Овощи и фрукты"
      ]
     },
     "execution_count": 4,
     "metadata": {},
     "output_type": "execute_result"
    }
   ],
   "source": [
    "categories.head()\n"
   ]
  },
  {
   "cell_type": "code",
   "execution_count": 5,
   "metadata": {
    "execution": {
     "iopub.execute_input": "2024-09-03T06:54:17.124918Z",
     "iopub.status.busy": "2024-09-03T06:54:17.123862Z",
     "iopub.status.idle": "2024-09-03T06:54:17.173323Z",
     "shell.execute_reply": "2024-09-03T06:54:17.172546Z",
     "shell.execute_reply.started": "2024-09-03T06:54:17.124888Z"
    },
    "tags": []
   },
   "outputs": [
    {
     "data": {
      "text/html": [
       "<div>\n",
       "<style scoped>\n",
       "    .dataframe tbody tr th:only-of-type {\n",
       "        vertical-align: middle;\n",
       "    }\n",
       "\n",
       "    .dataframe tbody tr th {\n",
       "        vertical-align: top;\n",
       "    }\n",
       "\n",
       "    .dataframe thead th {\n",
       "        text-align: right;\n",
       "    }\n",
       "</style>\n",
       "<table border=\"1\" class=\"dataframe\">\n",
       "  <thead>\n",
       "    <tr style=\"text-align: right;\">\n",
       "      <th></th>\n",
       "      <th>OrderID</th>\n",
       "      <th>UserID</th>\n",
       "      <th>OrderTime</th>\n",
       "      <th>items</th>\n",
       "      <th>Date</th>\n",
       "    </tr>\n",
       "  </thead>\n",
       "  <tbody>\n",
       "    <tr>\n",
       "      <th>0</th>\n",
       "      <td>90659865</td>\n",
       "      <td>1.609460e+18</td>\n",
       "      <td>2021-01-01 03:51:42</td>\n",
       "      <td>[{'ItemID': '413736', 'price': 36.72, 'quantit...</td>\n",
       "      <td>2021-01-01</td>\n",
       "    </tr>\n",
       "    <tr>\n",
       "      <th>1</th>\n",
       "      <td>90622054</td>\n",
       "      <td>2.499293e+18</td>\n",
       "      <td>2021-01-01 04:13:13</td>\n",
       "      <td>[{'ItemID': '961454', 'price': 179.9, 'quantit...</td>\n",
       "      <td>2021-01-01</td>\n",
       "    </tr>\n",
       "    <tr>\n",
       "      <th>2</th>\n",
       "      <td>90659952</td>\n",
       "      <td>3.945866e+17</td>\n",
       "      <td>2021-01-01 05:48:53</td>\n",
       "      <td>[{'ItemID': '306553', 'price': 101.9, 'quantit...</td>\n",
       "      <td>2021-01-01</td>\n",
       "    </tr>\n",
       "    <tr>\n",
       "      <th>3</th>\n",
       "      <td>89765281</td>\n",
       "      <td>5.412765e+18</td>\n",
       "      <td>2021-01-01 08:33:41</td>\n",
       "      <td>[{'ItemID': '979703', 'price': 99.9, 'quantity...</td>\n",
       "      <td>2021-01-01</td>\n",
       "    </tr>\n",
       "    <tr>\n",
       "      <th>4</th>\n",
       "      <td>90582308</td>\n",
       "      <td>6.380061e+18</td>\n",
       "      <td>2021-01-01 09:55:35</td>\n",
       "      <td>[{'ItemID': '303765', 'price': 44.9, 'quantity...</td>\n",
       "      <td>2021-01-01</td>\n",
       "    </tr>\n",
       "  </tbody>\n",
       "</table>\n",
       "</div>"
      ],
      "text/plain": [
       "    OrderID        UserID            OrderTime  \\\n",
       "0  90659865  1.609460e+18  2021-01-01 03:51:42   \n",
       "1  90622054  2.499293e+18  2021-01-01 04:13:13   \n",
       "2  90659952  3.945866e+17  2021-01-01 05:48:53   \n",
       "3  89765281  5.412765e+18  2021-01-01 08:33:41   \n",
       "4  90582308  6.380061e+18  2021-01-01 09:55:35   \n",
       "\n",
       "                                               items       Date  \n",
       "0  [{'ItemID': '413736', 'price': 36.72, 'quantit... 2021-01-01  \n",
       "1  [{'ItemID': '961454', 'price': 179.9, 'quantit... 2021-01-01  \n",
       "2  [{'ItemID': '306553', 'price': 101.9, 'quantit... 2021-01-01  \n",
       "3  [{'ItemID': '979703', 'price': 99.9, 'quantity... 2021-01-01  \n",
       "4  [{'ItemID': '303765', 'price': 44.9, 'quantity... 2021-01-01  "
      ]
     },
     "execution_count": 5,
     "metadata": {},
     "output_type": "execute_result"
    }
   ],
   "source": [
    "orders.head()"
   ]
  },
  {
   "cell_type": "code",
   "execution_count": 6,
   "metadata": {},
   "outputs": [
    {
     "data": {
      "text/plain": [
       "(35030, 3)"
      ]
     },
     "execution_count": 6,
     "metadata": {},
     "output_type": "execute_result"
    }
   ],
   "source": [
    "categories.shape"
   ]
  },
  {
   "cell_type": "code",
   "execution_count": 7,
   "metadata": {},
   "outputs": [
    {
     "data": {
      "text/plain": [
       "181"
      ]
     },
     "execution_count": 7,
     "metadata": {},
     "output_type": "execute_result"
    }
   ],
   "source": [
    "orders.Date.nunique()"
   ]
  },
  {
   "cell_type": "code",
   "execution_count": 8,
   "metadata": {},
   "outputs": [
    {
     "data": {
      "text/plain": [
       "493"
      ]
     },
     "execution_count": 8,
     "metadata": {},
     "output_type": "execute_result"
    }
   ],
   "source": [
    "categories.Category.nunique()"
   ]
  },
  {
   "cell_type": "code",
   "execution_count": 9,
   "metadata": {},
   "outputs": [
    {
     "data": {
      "text/plain": [
       "17"
      ]
     },
     "execution_count": 9,
     "metadata": {},
     "output_type": "execute_result"
    }
   ],
   "source": [
    "categories.ParentCategory.nunique()"
   ]
  },
  {
   "cell_type": "code",
   "execution_count": 10,
   "metadata": {},
   "outputs": [
    {
     "data": {
      "text/plain": [
       "[{'ItemID': '413736', 'price': 36.72, 'quantity': 2},\n",
       " {'ItemID': '523171', 'price': 90.32, 'quantity': 1},\n",
       " {'ItemID': '452831', 'price': 223.11, 'quantity': 1},\n",
       " {'ItemID': '303673', 'price': 59.9, 'quantity': 7},\n",
       " {'ItemID': '318193', 'price': 319.91, 'quantity': 2},\n",
       " {'ItemID': '345578', 'price': 159.92, 'quantity': 1},\n",
       " {'ItemID': '316140', 'price': 135.92, 'quantity': 2},\n",
       " {'ItemID': '444061', 'price': 291.12, 'quantity': 2},\n",
       " {'ItemID': '500982', 'price': 36.72, 'quantity': 3},\n",
       " {'ItemID': '303682', 'price': 63.26, 'quantity': 2},\n",
       " {'ItemID': '308467', 'price': 35.11, 'quantity': 3},\n",
       " {'ItemID': '312673', 'price': 289.9, 'quantity': 1},\n",
       " {'ItemID': '429288', 'price': 179.9, 'quantity': 1},\n",
       " {'ItemID': '306876', 'price': 29.9, 'quantity': 1},\n",
       " {'ItemID': '306843', 'price': 75.12, 'quantity': 1},\n",
       " {'ItemID': '521581', 'price': 79.92, 'quantity': 1},\n",
       " {'ItemID': '303669', 'price': 116.87, 'quantity': 1},\n",
       " {'ItemID': '313776', 'price': 99.9, 'quantity': 1},\n",
       " {'ItemID': '521656', 'price': 119.9, 'quantity': 1},\n",
       " {'ItemID': '315179', 'price': 127.92, 'quantity': 1},\n",
       " {'ItemID': '1003647', 'price': 39.92, 'quantity': 6},\n",
       " {'ItemID': '363466', 'price': 111.12, 'quantity': 1}]"
      ]
     },
     "execution_count": 10,
     "metadata": {},
     "output_type": "execute_result"
    }
   ],
   "source": [
    "orders['items'][0]"
   ]
  },
  {
   "cell_type": "code",
   "execution_count": 11,
   "metadata": {},
   "outputs": [
    {
     "data": {
      "text/html": [
       "<div>\n",
       "<style scoped>\n",
       "    .dataframe tbody tr th:only-of-type {\n",
       "        vertical-align: middle;\n",
       "    }\n",
       "\n",
       "    .dataframe tbody tr th {\n",
       "        vertical-align: top;\n",
       "    }\n",
       "\n",
       "    .dataframe thead th {\n",
       "        text-align: right;\n",
       "    }\n",
       "</style>\n",
       "<table border=\"1\" class=\"dataframe\">\n",
       "  <thead>\n",
       "    <tr style=\"text-align: right;\">\n",
       "      <th></th>\n",
       "      <th>OrderID</th>\n",
       "      <th>OrderTime</th>\n",
       "    </tr>\n",
       "  </thead>\n",
       "  <tbody>\n",
       "    <tr>\n",
       "      <th>0</th>\n",
       "      <td>90659865</td>\n",
       "      <td>2021-01-01 03:51:42</td>\n",
       "    </tr>\n",
       "    <tr>\n",
       "      <th>1</th>\n",
       "      <td>90622054</td>\n",
       "      <td>2021-01-01 04:13:13</td>\n",
       "    </tr>\n",
       "    <tr>\n",
       "      <th>2</th>\n",
       "      <td>90659952</td>\n",
       "      <td>2021-01-01 05:48:53</td>\n",
       "    </tr>\n",
       "    <tr>\n",
       "      <th>3</th>\n",
       "      <td>89765281</td>\n",
       "      <td>2021-01-01 08:33:41</td>\n",
       "    </tr>\n",
       "    <tr>\n",
       "      <th>4</th>\n",
       "      <td>90582308</td>\n",
       "      <td>2021-01-01 09:55:35</td>\n",
       "    </tr>\n",
       "    <tr>\n",
       "      <th>...</th>\n",
       "      <td>...</td>\n",
       "      <td>...</td>\n",
       "    </tr>\n",
       "    <tr>\n",
       "      <th>40370</th>\n",
       "      <td>93920417</td>\n",
       "      <td>2021-06-30 23:40:23</td>\n",
       "    </tr>\n",
       "    <tr>\n",
       "      <th>40371</th>\n",
       "      <td>93924602</td>\n",
       "      <td>2021-06-30 23:41:41</td>\n",
       "    </tr>\n",
       "    <tr>\n",
       "      <th>40372</th>\n",
       "      <td>93952166</td>\n",
       "      <td>2021-06-30 23:49:12</td>\n",
       "    </tr>\n",
       "    <tr>\n",
       "      <th>40373</th>\n",
       "      <td>93955735</td>\n",
       "      <td>2021-06-30 23:56:21</td>\n",
       "    </tr>\n",
       "    <tr>\n",
       "      <th>40374</th>\n",
       "      <td>93266815</td>\n",
       "      <td>2021-06-30 23:58:09</td>\n",
       "    </tr>\n",
       "  </tbody>\n",
       "</table>\n",
       "<p>40375 rows × 2 columns</p>\n",
       "</div>"
      ],
      "text/plain": [
       "        OrderID            OrderTime\n",
       "0      90659865  2021-01-01 03:51:42\n",
       "1      90622054  2021-01-01 04:13:13\n",
       "2      90659952  2021-01-01 05:48:53\n",
       "3      89765281  2021-01-01 08:33:41\n",
       "4      90582308  2021-01-01 09:55:35\n",
       "...         ...                  ...\n",
       "40370  93920417  2021-06-30 23:40:23\n",
       "40371  93924602  2021-06-30 23:41:41\n",
       "40372  93952166  2021-06-30 23:49:12\n",
       "40373  93955735  2021-06-30 23:56:21\n",
       "40374  93266815  2021-06-30 23:58:09\n",
       "\n",
       "[40375 rows x 2 columns]"
      ]
     },
     "execution_count": 11,
     "metadata": {},
     "output_type": "execute_result"
    }
   ],
   "source": [
    "orders[['OrderID', 'OrderTime']]"
   ]
  },
  {
   "cell_type": "code",
   "execution_count": 12,
   "metadata": {},
   "outputs": [
    {
     "data": {
      "text/html": [
       "<div>\n",
       "<style scoped>\n",
       "    .dataframe tbody tr th:only-of-type {\n",
       "        vertical-align: middle;\n",
       "    }\n",
       "\n",
       "    .dataframe tbody tr th {\n",
       "        vertical-align: top;\n",
       "    }\n",
       "\n",
       "    .dataframe thead th {\n",
       "        text-align: right;\n",
       "    }\n",
       "</style>\n",
       "<table border=\"1\" class=\"dataframe\">\n",
       "  <thead>\n",
       "    <tr style=\"text-align: right;\">\n",
       "      <th></th>\n",
       "      <th>OrderTime</th>\n",
       "    </tr>\n",
       "  </thead>\n",
       "  <tbody>\n",
       "    <tr>\n",
       "      <th>0</th>\n",
       "      <td>2021-01-01 03:51:42</td>\n",
       "    </tr>\n",
       "    <tr>\n",
       "      <th>1</th>\n",
       "      <td>2021-01-01 04:13:13</td>\n",
       "    </tr>\n",
       "    <tr>\n",
       "      <th>2</th>\n",
       "      <td>2021-01-01 05:48:53</td>\n",
       "    </tr>\n",
       "    <tr>\n",
       "      <th>3</th>\n",
       "      <td>2021-01-01 08:33:41</td>\n",
       "    </tr>\n",
       "    <tr>\n",
       "      <th>4</th>\n",
       "      <td>2021-01-01 09:55:35</td>\n",
       "    </tr>\n",
       "    <tr>\n",
       "      <th>...</th>\n",
       "      <td>...</td>\n",
       "    </tr>\n",
       "    <tr>\n",
       "      <th>40370</th>\n",
       "      <td>2021-06-30 23:40:23</td>\n",
       "    </tr>\n",
       "    <tr>\n",
       "      <th>40371</th>\n",
       "      <td>2021-06-30 23:41:41</td>\n",
       "    </tr>\n",
       "    <tr>\n",
       "      <th>40372</th>\n",
       "      <td>2021-06-30 23:49:12</td>\n",
       "    </tr>\n",
       "    <tr>\n",
       "      <th>40373</th>\n",
       "      <td>2021-06-30 23:56:21</td>\n",
       "    </tr>\n",
       "    <tr>\n",
       "      <th>40374</th>\n",
       "      <td>2021-06-30 23:58:09</td>\n",
       "    </tr>\n",
       "  </tbody>\n",
       "</table>\n",
       "<p>40375 rows × 1 columns</p>\n",
       "</div>"
      ],
      "text/plain": [
       "                 OrderTime\n",
       "0      2021-01-01 03:51:42\n",
       "1      2021-01-01 04:13:13\n",
       "2      2021-01-01 05:48:53\n",
       "3      2021-01-01 08:33:41\n",
       "4      2021-01-01 09:55:35\n",
       "...                    ...\n",
       "40370  2021-06-30 23:40:23\n",
       "40371  2021-06-30 23:41:41\n",
       "40372  2021-06-30 23:49:12\n",
       "40373  2021-06-30 23:56:21\n",
       "40374  2021-06-30 23:58:09\n",
       "\n",
       "[40375 rows x 1 columns]"
      ]
     },
     "execution_count": 12,
     "metadata": {},
     "output_type": "execute_result"
    }
   ],
   "source": [
    "orders[['OrderTime']]"
   ]
  },
  {
   "cell_type": "code",
   "execution_count": 13,
   "metadata": {},
   "outputs": [
    {
     "data": {
      "text/html": [
       "<div>\n",
       "<style scoped>\n",
       "    .dataframe tbody tr th:only-of-type {\n",
       "        vertical-align: middle;\n",
       "    }\n",
       "\n",
       "    .dataframe tbody tr th {\n",
       "        vertical-align: top;\n",
       "    }\n",
       "\n",
       "    .dataframe thead th {\n",
       "        text-align: right;\n",
       "    }\n",
       "</style>\n",
       "<table border=\"1\" class=\"dataframe\">\n",
       "  <thead>\n",
       "    <tr style=\"text-align: right;\">\n",
       "      <th></th>\n",
       "      <th>Date</th>\n",
       "      <th>OrderID</th>\n",
       "    </tr>\n",
       "  </thead>\n",
       "  <tbody>\n",
       "    <tr>\n",
       "      <th>35</th>\n",
       "      <td>2021-02-05</td>\n",
       "      <td>342</td>\n",
       "    </tr>\n",
       "  </tbody>\n",
       "</table>\n",
       "</div>"
      ],
      "text/plain": [
       "         Date  OrderID\n",
       "35 2021-02-05      342"
      ]
     },
     "execution_count": 13,
     "metadata": {},
     "output_type": "execute_result"
    }
   ],
   "source": [
    "# Определите какого числа было сделано больше всего заказов - 05.02.2021 было сделано больше всего заказов\n",
    "orders.groupby('Date')['OrderID'].count().reset_index().nlargest(1,'OrderID')"
   ]
  },
  {
   "cell_type": "code",
   "execution_count": 14,
   "metadata": {},
   "outputs": [
    {
     "data": {
      "text/html": [
       "<div>\n",
       "<style scoped>\n",
       "    .dataframe tbody tr th:only-of-type {\n",
       "        vertical-align: middle;\n",
       "    }\n",
       "\n",
       "    .dataframe tbody tr th {\n",
       "        vertical-align: top;\n",
       "    }\n",
       "\n",
       "    .dataframe thead th {\n",
       "        text-align: right;\n",
       "    }\n",
       "</style>\n",
       "<table border=\"1\" class=\"dataframe\">\n",
       "  <thead>\n",
       "    <tr style=\"text-align: right;\">\n",
       "      <th></th>\n",
       "      <th>OrderID</th>\n",
       "      <th>UserID</th>\n",
       "      <th>OrderTime</th>\n",
       "      <th>items</th>\n",
       "      <th>Date</th>\n",
       "    </tr>\n",
       "  </thead>\n",
       "  <tbody>\n",
       "    <tr>\n",
       "      <th>0</th>\n",
       "      <td>90659865</td>\n",
       "      <td>1.609460e+18</td>\n",
       "      <td>2021-01-01 03:51:42</td>\n",
       "      <td>{'ItemID': '413736', 'price': 36.72, 'quantity...</td>\n",
       "      <td>2021-01-01</td>\n",
       "    </tr>\n",
       "    <tr>\n",
       "      <th>1</th>\n",
       "      <td>90659865</td>\n",
       "      <td>1.609460e+18</td>\n",
       "      <td>2021-01-01 03:51:42</td>\n",
       "      <td>{'ItemID': '523171', 'price': 90.32, 'quantity...</td>\n",
       "      <td>2021-01-01</td>\n",
       "    </tr>\n",
       "    <tr>\n",
       "      <th>2</th>\n",
       "      <td>90659865</td>\n",
       "      <td>1.609460e+18</td>\n",
       "      <td>2021-01-01 03:51:42</td>\n",
       "      <td>{'ItemID': '452831', 'price': 223.11, 'quantit...</td>\n",
       "      <td>2021-01-01</td>\n",
       "    </tr>\n",
       "    <tr>\n",
       "      <th>3</th>\n",
       "      <td>90659865</td>\n",
       "      <td>1.609460e+18</td>\n",
       "      <td>2021-01-01 03:51:42</td>\n",
       "      <td>{'ItemID': '303673', 'price': 59.9, 'quantity'...</td>\n",
       "      <td>2021-01-01</td>\n",
       "    </tr>\n",
       "    <tr>\n",
       "      <th>4</th>\n",
       "      <td>90659865</td>\n",
       "      <td>1.609460e+18</td>\n",
       "      <td>2021-01-01 03:51:42</td>\n",
       "      <td>{'ItemID': '318193', 'price': 319.91, 'quantit...</td>\n",
       "      <td>2021-01-01</td>\n",
       "    </tr>\n",
       "  </tbody>\n",
       "</table>\n",
       "</div>"
      ],
      "text/plain": [
       "    OrderID        UserID            OrderTime  \\\n",
       "0  90659865  1.609460e+18  2021-01-01 03:51:42   \n",
       "1  90659865  1.609460e+18  2021-01-01 03:51:42   \n",
       "2  90659865  1.609460e+18  2021-01-01 03:51:42   \n",
       "3  90659865  1.609460e+18  2021-01-01 03:51:42   \n",
       "4  90659865  1.609460e+18  2021-01-01 03:51:42   \n",
       "\n",
       "                                               items       Date  \n",
       "0  {'ItemID': '413736', 'price': 36.72, 'quantity... 2021-01-01  \n",
       "1  {'ItemID': '523171', 'price': 90.32, 'quantity... 2021-01-01  \n",
       "2  {'ItemID': '452831', 'price': 223.11, 'quantit... 2021-01-01  \n",
       "3  {'ItemID': '303673', 'price': 59.9, 'quantity'... 2021-01-01  \n",
       "4  {'ItemID': '318193', 'price': 319.91, 'quantit... 2021-01-01  "
      ]
     },
     "execution_count": 14,
     "metadata": {},
     "output_type": "execute_result"
    }
   ],
   "source": [
    "# Найдите топ-3 ParentCategory по GMV (суммарная выручка, которую принесла продажа товаров этой категории)\n",
    "exploded_orders = orders.explode('items', ignore_index = True)\n",
    "exploded_orders.head()\n"
   ]
  },
  {
   "cell_type": "code",
   "execution_count": 15,
   "metadata": {},
   "outputs": [
    {
     "data": {
      "text/html": [
       "<div>\n",
       "<style scoped>\n",
       "    .dataframe tbody tr th:only-of-type {\n",
       "        vertical-align: middle;\n",
       "    }\n",
       "\n",
       "    .dataframe tbody tr th {\n",
       "        vertical-align: top;\n",
       "    }\n",
       "\n",
       "    .dataframe thead th {\n",
       "        text-align: right;\n",
       "    }\n",
       "</style>\n",
       "<table border=\"1\" class=\"dataframe\">\n",
       "  <thead>\n",
       "    <tr style=\"text-align: right;\">\n",
       "      <th></th>\n",
       "      <th>ItemID</th>\n",
       "      <th>price</th>\n",
       "      <th>quantity</th>\n",
       "    </tr>\n",
       "  </thead>\n",
       "  <tbody>\n",
       "    <tr>\n",
       "      <th>0</th>\n",
       "      <td>413736</td>\n",
       "      <td>36.72</td>\n",
       "      <td>2</td>\n",
       "    </tr>\n",
       "    <tr>\n",
       "      <th>1</th>\n",
       "      <td>523171</td>\n",
       "      <td>90.32</td>\n",
       "      <td>1</td>\n",
       "    </tr>\n",
       "    <tr>\n",
       "      <th>2</th>\n",
       "      <td>452831</td>\n",
       "      <td>223.11</td>\n",
       "      <td>1</td>\n",
       "    </tr>\n",
       "    <tr>\n",
       "      <th>3</th>\n",
       "      <td>303673</td>\n",
       "      <td>59.90</td>\n",
       "      <td>7</td>\n",
       "    </tr>\n",
       "    <tr>\n",
       "      <th>4</th>\n",
       "      <td>318193</td>\n",
       "      <td>319.91</td>\n",
       "      <td>2</td>\n",
       "    </tr>\n",
       "    <tr>\n",
       "      <th>...</th>\n",
       "      <td>...</td>\n",
       "      <td>...</td>\n",
       "      <td>...</td>\n",
       "    </tr>\n",
       "    <tr>\n",
       "      <th>852813</th>\n",
       "      <td>439036</td>\n",
       "      <td>17.50</td>\n",
       "      <td>1</td>\n",
       "    </tr>\n",
       "    <tr>\n",
       "      <th>852814</th>\n",
       "      <td>303765</td>\n",
       "      <td>6.56</td>\n",
       "      <td>1</td>\n",
       "    </tr>\n",
       "    <tr>\n",
       "      <th>852815</th>\n",
       "      <td>341794</td>\n",
       "      <td>69.90</td>\n",
       "      <td>1</td>\n",
       "    </tr>\n",
       "    <tr>\n",
       "      <th>852816</th>\n",
       "      <td>307216</td>\n",
       "      <td>2.99</td>\n",
       "      <td>1</td>\n",
       "    </tr>\n",
       "    <tr>\n",
       "      <th>852817</th>\n",
       "      <td>322455</td>\n",
       "      <td>9.68</td>\n",
       "      <td>1</td>\n",
       "    </tr>\n",
       "  </tbody>\n",
       "</table>\n",
       "<p>852818 rows × 3 columns</p>\n",
       "</div>"
      ],
      "text/plain": [
       "        ItemID   price  quantity\n",
       "0       413736   36.72         2\n",
       "1       523171   90.32         1\n",
       "2       452831  223.11         1\n",
       "3       303673   59.90         7\n",
       "4       318193  319.91         2\n",
       "...        ...     ...       ...\n",
       "852813  439036   17.50         1\n",
       "852814  303765    6.56         1\n",
       "852815  341794   69.90         1\n",
       "852816  307216    2.99         1\n",
       "852817  322455    9.68         1\n",
       "\n",
       "[852818 rows x 3 columns]"
      ]
     },
     "execution_count": 15,
     "metadata": {},
     "output_type": "execute_result"
    }
   ],
   "source": [
    "pd.json_normalize(exploded_orders['items'])"
   ]
  },
  {
   "cell_type": "code",
   "execution_count": 16,
   "metadata": {},
   "outputs": [
    {
     "data": {
      "text/html": [
       "<div>\n",
       "<style scoped>\n",
       "    .dataframe tbody tr th:only-of-type {\n",
       "        vertical-align: middle;\n",
       "    }\n",
       "\n",
       "    .dataframe tbody tr th {\n",
       "        vertical-align: top;\n",
       "    }\n",
       "\n",
       "    .dataframe thead th {\n",
       "        text-align: right;\n",
       "    }\n",
       "</style>\n",
       "<table border=\"1\" class=\"dataframe\">\n",
       "  <thead>\n",
       "    <tr style=\"text-align: right;\">\n",
       "      <th></th>\n",
       "      <th>OrderID</th>\n",
       "      <th>UserID</th>\n",
       "      <th>OrderTime</th>\n",
       "      <th>Date</th>\n",
       "      <th>ItemID</th>\n",
       "      <th>price</th>\n",
       "      <th>quantity</th>\n",
       "    </tr>\n",
       "  </thead>\n",
       "  <tbody>\n",
       "    <tr>\n",
       "      <th>0</th>\n",
       "      <td>90659865</td>\n",
       "      <td>1.609460e+18</td>\n",
       "      <td>2021-01-01 03:51:42</td>\n",
       "      <td>2021-01-01</td>\n",
       "      <td>413736</td>\n",
       "      <td>36.72</td>\n",
       "      <td>2</td>\n",
       "    </tr>\n",
       "    <tr>\n",
       "      <th>1</th>\n",
       "      <td>90659865</td>\n",
       "      <td>1.609460e+18</td>\n",
       "      <td>2021-01-01 03:51:42</td>\n",
       "      <td>2021-01-01</td>\n",
       "      <td>523171</td>\n",
       "      <td>90.32</td>\n",
       "      <td>1</td>\n",
       "    </tr>\n",
       "    <tr>\n",
       "      <th>2</th>\n",
       "      <td>90659865</td>\n",
       "      <td>1.609460e+18</td>\n",
       "      <td>2021-01-01 03:51:42</td>\n",
       "      <td>2021-01-01</td>\n",
       "      <td>452831</td>\n",
       "      <td>223.11</td>\n",
       "      <td>1</td>\n",
       "    </tr>\n",
       "    <tr>\n",
       "      <th>3</th>\n",
       "      <td>90659865</td>\n",
       "      <td>1.609460e+18</td>\n",
       "      <td>2021-01-01 03:51:42</td>\n",
       "      <td>2021-01-01</td>\n",
       "      <td>303673</td>\n",
       "      <td>59.90</td>\n",
       "      <td>7</td>\n",
       "    </tr>\n",
       "    <tr>\n",
       "      <th>4</th>\n",
       "      <td>90659865</td>\n",
       "      <td>1.609460e+18</td>\n",
       "      <td>2021-01-01 03:51:42</td>\n",
       "      <td>2021-01-01</td>\n",
       "      <td>318193</td>\n",
       "      <td>319.91</td>\n",
       "      <td>2</td>\n",
       "    </tr>\n",
       "  </tbody>\n",
       "</table>\n",
       "</div>"
      ],
      "text/plain": [
       "    OrderID        UserID            OrderTime       Date  ItemID   price  \\\n",
       "0  90659865  1.609460e+18  2021-01-01 03:51:42 2021-01-01  413736   36.72   \n",
       "1  90659865  1.609460e+18  2021-01-01 03:51:42 2021-01-01  523171   90.32   \n",
       "2  90659865  1.609460e+18  2021-01-01 03:51:42 2021-01-01  452831  223.11   \n",
       "3  90659865  1.609460e+18  2021-01-01 03:51:42 2021-01-01  303673   59.90   \n",
       "4  90659865  1.609460e+18  2021-01-01 03:51:42 2021-01-01  318193  319.91   \n",
       "\n",
       "   quantity  \n",
       "0         2  \n",
       "1         1  \n",
       "2         1  \n",
       "3         7  \n",
       "4         2  "
      ]
     },
     "execution_count": 16,
     "metadata": {},
     "output_type": "execute_result"
    }
   ],
   "source": [
    "all_orders = pd.concat([exploded_orders.drop('items', axis = 1), \\\n",
    "           pd.json_normalize(exploded_orders['items'])], axis = 1)\n",
    "all_orders.head()"
   ]
  },
  {
   "cell_type": "code",
   "execution_count": 17,
   "metadata": {},
   "outputs": [
    {
     "data": {
      "text/html": [
       "<div>\n",
       "<style scoped>\n",
       "    .dataframe tbody tr th:only-of-type {\n",
       "        vertical-align: middle;\n",
       "    }\n",
       "\n",
       "    .dataframe tbody tr th {\n",
       "        vertical-align: top;\n",
       "    }\n",
       "\n",
       "    .dataframe thead th {\n",
       "        text-align: right;\n",
       "    }\n",
       "</style>\n",
       "<table border=\"1\" class=\"dataframe\">\n",
       "  <thead>\n",
       "    <tr style=\"text-align: right;\">\n",
       "      <th></th>\n",
       "      <th>OrderID</th>\n",
       "      <th>UserID</th>\n",
       "      <th>OrderTime</th>\n",
       "      <th>Date</th>\n",
       "      <th>ItemID</th>\n",
       "      <th>price</th>\n",
       "      <th>quantity</th>\n",
       "      <th>GMV</th>\n",
       "    </tr>\n",
       "  </thead>\n",
       "  <tbody>\n",
       "    <tr>\n",
       "      <th>0</th>\n",
       "      <td>90659865</td>\n",
       "      <td>1.609460e+18</td>\n",
       "      <td>2021-01-01 03:51:42</td>\n",
       "      <td>2021-01-01</td>\n",
       "      <td>413736</td>\n",
       "      <td>36.72</td>\n",
       "      <td>2</td>\n",
       "      <td>73.44</td>\n",
       "    </tr>\n",
       "    <tr>\n",
       "      <th>1</th>\n",
       "      <td>90659865</td>\n",
       "      <td>1.609460e+18</td>\n",
       "      <td>2021-01-01 03:51:42</td>\n",
       "      <td>2021-01-01</td>\n",
       "      <td>523171</td>\n",
       "      <td>90.32</td>\n",
       "      <td>1</td>\n",
       "      <td>90.32</td>\n",
       "    </tr>\n",
       "    <tr>\n",
       "      <th>2</th>\n",
       "      <td>90659865</td>\n",
       "      <td>1.609460e+18</td>\n",
       "      <td>2021-01-01 03:51:42</td>\n",
       "      <td>2021-01-01</td>\n",
       "      <td>452831</td>\n",
       "      <td>223.11</td>\n",
       "      <td>1</td>\n",
       "      <td>223.11</td>\n",
       "    </tr>\n",
       "    <tr>\n",
       "      <th>3</th>\n",
       "      <td>90659865</td>\n",
       "      <td>1.609460e+18</td>\n",
       "      <td>2021-01-01 03:51:42</td>\n",
       "      <td>2021-01-01</td>\n",
       "      <td>303673</td>\n",
       "      <td>59.90</td>\n",
       "      <td>7</td>\n",
       "      <td>419.30</td>\n",
       "    </tr>\n",
       "    <tr>\n",
       "      <th>4</th>\n",
       "      <td>90659865</td>\n",
       "      <td>1.609460e+18</td>\n",
       "      <td>2021-01-01 03:51:42</td>\n",
       "      <td>2021-01-01</td>\n",
       "      <td>318193</td>\n",
       "      <td>319.91</td>\n",
       "      <td>2</td>\n",
       "      <td>639.82</td>\n",
       "    </tr>\n",
       "  </tbody>\n",
       "</table>\n",
       "</div>"
      ],
      "text/plain": [
       "    OrderID        UserID            OrderTime       Date  ItemID   price  \\\n",
       "0  90659865  1.609460e+18  2021-01-01 03:51:42 2021-01-01  413736   36.72   \n",
       "1  90659865  1.609460e+18  2021-01-01 03:51:42 2021-01-01  523171   90.32   \n",
       "2  90659865  1.609460e+18  2021-01-01 03:51:42 2021-01-01  452831  223.11   \n",
       "3  90659865  1.609460e+18  2021-01-01 03:51:42 2021-01-01  303673   59.90   \n",
       "4  90659865  1.609460e+18  2021-01-01 03:51:42 2021-01-01  318193  319.91   \n",
       "\n",
       "   quantity     GMV  \n",
       "0         2   73.44  \n",
       "1         1   90.32  \n",
       "2         1  223.11  \n",
       "3         7  419.30  \n",
       "4         2  639.82  "
      ]
     },
     "execution_count": 17,
     "metadata": {},
     "output_type": "execute_result"
    }
   ],
   "source": [
    "all_orders['GMV'] = all_orders.price * all_orders.quantity\n",
    "all_orders.head()"
   ]
  },
  {
   "cell_type": "code",
   "execution_count": 18,
   "metadata": {},
   "outputs": [
    {
     "data": {
      "text/html": [
       "<div>\n",
       "<style scoped>\n",
       "    .dataframe tbody tr th:only-of-type {\n",
       "        vertical-align: middle;\n",
       "    }\n",
       "\n",
       "    .dataframe tbody tr th {\n",
       "        vertical-align: top;\n",
       "    }\n",
       "\n",
       "    .dataframe thead th {\n",
       "        text-align: right;\n",
       "    }\n",
       "</style>\n",
       "<table border=\"1\" class=\"dataframe\">\n",
       "  <thead>\n",
       "    <tr style=\"text-align: right;\">\n",
       "      <th></th>\n",
       "      <th>ItemID</th>\n",
       "      <th>OrderID</th>\n",
       "      <th>UserID</th>\n",
       "      <th>OrderTime</th>\n",
       "      <th>Date</th>\n",
       "      <th>ItemID_x</th>\n",
       "      <th>price</th>\n",
       "      <th>quantity</th>\n",
       "      <th>GMV</th>\n",
       "      <th>ItemID_y</th>\n",
       "      <th>Category</th>\n",
       "      <th>ParentCategory</th>\n",
       "    </tr>\n",
       "  </thead>\n",
       "  <tbody>\n",
       "    <tr>\n",
       "      <th>5320</th>\n",
       "      <td>303665</td>\n",
       "      <td>91418396</td>\n",
       "      <td>8.420668e+18</td>\n",
       "      <td>2021-02-27 22:27:56</td>\n",
       "      <td>2021-02-27</td>\n",
       "      <td>318617</td>\n",
       "      <td>46.9</td>\n",
       "      <td>1</td>\n",
       "      <td>46.9</td>\n",
       "      <td>303665</td>\n",
       "      <td>Чай</td>\n",
       "      <td>Напитки</td>\n",
       "    </tr>\n",
       "    <tr>\n",
       "      <th>5321</th>\n",
       "      <td>303666</td>\n",
       "      <td>91418396</td>\n",
       "      <td>8.420668e+18</td>\n",
       "      <td>2021-02-27 22:27:56</td>\n",
       "      <td>2021-02-27</td>\n",
       "      <td>314354</td>\n",
       "      <td>109.9</td>\n",
       "      <td>1</td>\n",
       "      <td>109.9</td>\n",
       "      <td>303666</td>\n",
       "      <td>Овощи</td>\n",
       "      <td>Овощи и фрукты</td>\n",
       "    </tr>\n",
       "    <tr>\n",
       "      <th>5322</th>\n",
       "      <td>303669</td>\n",
       "      <td>91418396</td>\n",
       "      <td>8.420668e+18</td>\n",
       "      <td>2021-02-27 22:27:56</td>\n",
       "      <td>2021-02-27</td>\n",
       "      <td>314397</td>\n",
       "      <td>24.9</td>\n",
       "      <td>2</td>\n",
       "      <td>49.8</td>\n",
       "      <td>303669</td>\n",
       "      <td>Фрукты</td>\n",
       "      <td>Овощи и фрукты</td>\n",
       "    </tr>\n",
       "    <tr>\n",
       "      <th>5323</th>\n",
       "      <td>303670</td>\n",
       "      <td>91418396</td>\n",
       "      <td>8.420668e+18</td>\n",
       "      <td>2021-02-27 22:27:56</td>\n",
       "      <td>2021-02-27</td>\n",
       "      <td>954346</td>\n",
       "      <td>89.9</td>\n",
       "      <td>1</td>\n",
       "      <td>89.9</td>\n",
       "      <td>303670</td>\n",
       "      <td>Фрукты</td>\n",
       "      <td>Овощи и фрукты</td>\n",
       "    </tr>\n",
       "    <tr>\n",
       "      <th>5324</th>\n",
       "      <td>303671</td>\n",
       "      <td>91418396</td>\n",
       "      <td>8.420668e+18</td>\n",
       "      <td>2021-02-27 22:27:56</td>\n",
       "      <td>2021-02-27</td>\n",
       "      <td>309378</td>\n",
       "      <td>46.9</td>\n",
       "      <td>1</td>\n",
       "      <td>46.9</td>\n",
       "      <td>303671</td>\n",
       "      <td>Фрукты</td>\n",
       "      <td>Овощи и фрукты</td>\n",
       "    </tr>\n",
       "  </tbody>\n",
       "</table>\n",
       "</div>"
      ],
      "text/plain": [
       "      ItemID   OrderID        UserID            OrderTime       Date ItemID_x  \\\n",
       "5320  303665  91418396  8.420668e+18  2021-02-27 22:27:56 2021-02-27   318617   \n",
       "5321  303666  91418396  8.420668e+18  2021-02-27 22:27:56 2021-02-27   314354   \n",
       "5322  303669  91418396  8.420668e+18  2021-02-27 22:27:56 2021-02-27   314397   \n",
       "5323  303670  91418396  8.420668e+18  2021-02-27 22:27:56 2021-02-27   954346   \n",
       "5324  303671  91418396  8.420668e+18  2021-02-27 22:27:56 2021-02-27   309378   \n",
       "\n",
       "      price  quantity    GMV  ItemID_y Category  ParentCategory  \n",
       "5320   46.9         1   46.9    303665      Чай         Напитки  \n",
       "5321  109.9         1  109.9    303666    Овощи  Овощи и фрукты  \n",
       "5322   24.9         2   49.8    303669   Фрукты  Овощи и фрукты  \n",
       "5323   89.9         1   89.9    303670   Фрукты  Овощи и фрукты  \n",
       "5324   46.9         1   46.9    303671   Фрукты  Овощи и фрукты  "
      ]
     },
     "execution_count": 18,
     "metadata": {},
     "output_type": "execute_result"
    }
   ],
   "source": [
    "ord_cat = pd.merge(all_orders, categories, how='inner', left_index=True, right_on='ItemID')\n",
    "ord_cat.head()"
   ]
  },
  {
   "cell_type": "code",
   "execution_count": 19,
   "metadata": {},
   "outputs": [
    {
     "data": {
      "text/plain": [
       "ParentCategory\n",
       "Молочная продукция            533982.08\n",
       "Красота, гигиена, здоровье    542425.46\n",
       "Бакалея                       746457.78\n",
       "Name: GMV, dtype: float64"
      ]
     },
     "execution_count": 19,
     "metadata": {},
     "output_type": "execute_result"
    }
   ],
   "source": [
    "ord_cat.groupby('ParentCategory').sum('GMV').sort_values('GMV').GMV.tail(3)\n",
    "#топ-3 ParentCategory: Бакалея, Красота.., Молочная продукция\n"
   ]
  },
  {
   "cell_type": "code",
   "execution_count": 20,
   "metadata": {},
   "outputs": [],
   "source": [
    "# Напишите функцию,которая принимает на вход OrderID и рекомендует ItemID продукта для корзины этого заказа. \n",
    "# Проверьте работу этой функции.\n",
    "def print_recomend(ord_cat):\n",
    "    {print(f\"Номер {number} продукта для корзины заказа\")\n",
    "     for number in ord_cat.ItemID()}\n",
    "    return print('ItemID')"
   ]
  },
  {
   "cell_type": "code",
   "execution_count": 35,
   "metadata": {},
   "outputs": [
    {
     "name": "stdout",
     "output_type": "stream",
     "text": [
      "Collecting scikit-learn\n",
      "  Downloading scikit_learn-1.5.2-cp311-cp311-win_amd64.whl.metadata (13 kB)\n",
      "Requirement already satisfied: numpy>=1.19.5 in c:\\users\\warcr\\appdata\\local\\packages\\pythonsoftwarefoundation.python.3.11_qbz5n2kfra8p0\\localcache\\local-packages\\python311\\site-packages (from scikit-learn) (2.1.1)\n",
      "Requirement already satisfied: scipy>=1.6.0 in c:\\users\\warcr\\appdata\\local\\packages\\pythonsoftwarefoundation.python.3.11_qbz5n2kfra8p0\\localcache\\local-packages\\python311\\site-packages (from scikit-learn) (1.14.1)\n",
      "Collecting joblib>=1.2.0 (from scikit-learn)\n",
      "  Downloading joblib-1.4.2-py3-none-any.whl.metadata (5.4 kB)\n",
      "Collecting threadpoolctl>=3.1.0 (from scikit-learn)\n",
      "  Downloading threadpoolctl-3.5.0-py3-none-any.whl.metadata (13 kB)\n",
      "Downloading scikit_learn-1.5.2-cp311-cp311-win_amd64.whl (11.0 MB)\n",
      "   ---------------------------------------- 0.0/11.0 MB ? eta -:--:--\n",
      "   ---------------------------------------- 0.0/11.0 MB 660.6 kB/s eta 0:00:17\n",
      "   ---------------------------------------- 0.1/11.0 MB 1.2 MB/s eta 0:00:10\n",
      "    --------------------------------------- 0.2/11.0 MB 1.8 MB/s eta 0:00:06\n",
      "   - -------------------------------------- 0.5/11.0 MB 2.9 MB/s eta 0:00:04\n",
      "   --- ------------------------------------ 1.0/11.0 MB 4.6 MB/s eta 0:00:03\n",
      "   ----- ---------------------------------- 1.5/11.0 MB 5.5 MB/s eta 0:00:02\n",
      "   --------- ------------------------------ 2.6/11.0 MB 7.9 MB/s eta 0:00:02\n",
      "   ---------------- ----------------------- 4.7/11.0 MB 12.9 MB/s eta 0:00:01\n",
      "   --------------------- ------------------ 5.9/11.0 MB 14.5 MB/s eta 0:00:01\n",
      "   ------------------------------ --------- 8.5/11.0 MB 18.8 MB/s eta 0:00:01\n",
      "   ---------------------------------------  11.0/11.0 MB 36.4 MB/s eta 0:00:01\n",
      "   ---------------------------------------- 11.0/11.0 MB 32.8 MB/s eta 0:00:00\n",
      "Downloading joblib-1.4.2-py3-none-any.whl (301 kB)\n",
      "   ---------------------------------------- 0.0/301.8 kB ? eta -:--:--\n",
      "   --------------------------------------- 301.8/301.8 kB 18.2 MB/s eta 0:00:00\n",
      "Downloading threadpoolctl-3.5.0-py3-none-any.whl (18 kB)\n",
      "Installing collected packages: threadpoolctl, joblib, scikit-learn\n",
      "Successfully installed joblib-1.4.2 scikit-learn-1.5.2 threadpoolctl-3.5.0\n"
     ]
    },
    {
     "name": "stderr",
     "output_type": "stream",
     "text": [
      "\n",
      "[notice] A new release of pip is available: 24.0 -> 24.2\n",
      "[notice] To update, run: C:\\Users\\warcr\\AppData\\Local\\Microsoft\\WindowsApps\\PythonSoftwareFoundation.Python.3.11_qbz5n2kfra8p0\\python.exe -m pip install --upgrade pip\n"
     ]
    }
   ],
   "source": [
    "! pip install scikit-learn\n",
    "from sklearn.metrics.pairwise import cosine_similarity"
   ]
  },
  {
   "cell_type": "code",
   "execution_count": 24,
   "metadata": {},
   "outputs": [],
   "source": [
    "train_orders = orders[:int(len(orders)*0.8)]\n",
    "test_orders = orders[int(len(orders)*0.8):]"
   ]
  },
  {
   "cell_type": "code",
   "execution_count": 39,
   "metadata": {},
   "outputs": [],
   "source": [
    "def recommend_item(order_id, order_items):\n",
    "    items = order_items.copy()"
   ]
  },
  {
   "cell_type": "code",
   "execution_count": 44,
   "metadata": {},
   "outputs": [
    {
     "name": "stdout",
     "output_type": "stream",
     "text": [
      "{'1': ['Item1'], '2': ['Item2']}\n"
     ]
    }
   ],
   "source": [
    "order_items = {'1': ['Item1'], '2': ['Item2']}\n",
    "\n",
    "def recommend_item(order_id, order_items):\n",
    "    items = order_items.copy()\n",
    "    print(items)\n",
    "\n",
    "recommend_item(1, order_items)"
   ]
  },
  {
   "cell_type": "code",
   "execution_count": 90,
   "metadata": {},
   "outputs": [],
   "source": [
    "def recommend_item(order_id, order_items):\n",
    "    # Предполагаем, что `order_items` уже инициализирован как DataFrame\n",
    "    items = order_items.copy()\n",
    "    \n",
    "    # Исключаем текущие элементы из возможных рекомендаций\n",
    "    current_items = [i[1] for i in items if i[0] == order_id]\n",
    "    new_items = items[~items['ItemID'].isin(current_items)]\n",
    "    \n",
    "    # Преобразуем DataFrame в матрицу покупок\n",
    "    transactions = new_items.pivot(index='UserID', columns='ItemID', values='Quantity').fillna(0)\n",
    "    \n",
    "    # Вычисляем косинусные расстояния между пользователями и товарами\n",
    "    similarities = cosine_similarity(transactions.T, dense_output=False)\n",
    "    \n",
    "    # Рекомендуем топ-N товаров, которые пользователь еще не купил\n",
    "    top_n = 5\n",
    "    for _, row in transactions.iterrows():\n",
    "        scores = similarities[row.name]\n",
    "        item_ids = transactions.columns[scores.argsort()[-top_n:][::-1]]\n",
    "        \n",
    "        # Добавляем рекомендованные ItemID в список\n",
    "        recommended_items += [(order_id, item_id) for item_id in item_ids if item_id not in current_items]\n",
    "    \n",
    "    return recommended_items\n"
   ]
  },
  {
   "cell_type": "code",
   "execution_count": 94,
   "metadata": {},
   "outputs": [
    {
     "ename": "ValueError",
     "evalue": "If using all scalar values, you must pass an index",
     "output_type": "error",
     "traceback": [
      "\u001b[1;31m---------------------------------------------------------------------------\u001b[0m",
      "\u001b[1;31mValueError\u001b[0m                                Traceback (most recent call last)",
      "Cell \u001b[1;32mIn[94], line 2\u001b[0m\n\u001b[0;32m      1\u001b[0m test_order_id \u001b[38;5;241m=\u001b[39m \u001b[38;5;241m100\u001b[39m\n\u001b[1;32m----> 2\u001b[0m test_order_items \u001b[38;5;241m=\u001b[39m \u001b[43mpd\u001b[49m\u001b[38;5;241;43m.\u001b[39;49m\u001b[43mDataFrame\u001b[49m\u001b[43m(\u001b[49m\u001b[43m{\u001b[49m\n\u001b[0;32m      3\u001b[0m \u001b[43m    \u001b[49m\u001b[43m(\u001b[49m\u001b[38;5;124;43m'\u001b[39;49m\u001b[38;5;124;43m100\u001b[39;49m\u001b[38;5;124;43m'\u001b[39;49m\u001b[43m,\u001b[49m\u001b[43m \u001b[49m\u001b[38;5;124;43m'\u001b[39;49m\u001b[38;5;124;43mItem1\u001b[39;49m\u001b[38;5;124;43m'\u001b[39;49m\u001b[43m)\u001b[49m\u001b[43m:\u001b[49m\u001b[43m \u001b[49m\u001b[38;5;241;43m1\u001b[39;49m\u001b[43m,\u001b[49m\n\u001b[0;32m      4\u001b[0m \u001b[43m    \u001b[49m\u001b[43m(\u001b[49m\u001b[38;5;124;43m'\u001b[39;49m\u001b[38;5;124;43m100\u001b[39;49m\u001b[38;5;124;43m'\u001b[39;49m\u001b[43m,\u001b[49m\u001b[43m \u001b[49m\u001b[38;5;124;43m'\u001b[39;49m\u001b[38;5;124;43mItem2\u001b[39;49m\u001b[38;5;124;43m'\u001b[39;49m\u001b[43m)\u001b[49m\u001b[43m:\u001b[49m\u001b[43m \u001b[49m\u001b[38;5;241;43m2\u001b[39;49m\u001b[43m,\u001b[49m\n\u001b[0;32m      5\u001b[0m \u001b[43m    \u001b[49m\u001b[43m(\u001b[49m\u001b[38;5;124;43m'\u001b[39;49m\u001b[38;5;124;43m100\u001b[39;49m\u001b[38;5;124;43m'\u001b[39;49m\u001b[43m,\u001b[49m\u001b[43m \u001b[49m\u001b[38;5;124;43m'\u001b[39;49m\u001b[38;5;124;43mItem3\u001b[39;49m\u001b[38;5;124;43m'\u001b[39;49m\u001b[43m)\u001b[49m\u001b[43m:\u001b[49m\u001b[43m \u001b[49m\u001b[38;5;241;43m3\u001b[39;49m\n\u001b[0;32m      6\u001b[0m \u001b[43m}\u001b[49m\u001b[43m)\u001b[49m\n\u001b[0;32m      7\u001b[0m recommended_items \u001b[38;5;241m=\u001b[39m recommend_item(test_order_id, test_order_items)\n\u001b[0;32m      8\u001b[0m \u001b[38;5;28mprint\u001b[39m(recommended_items)\n",
      "File \u001b[1;32m~\\AppData\\Local\\Packages\\PythonSoftwareFoundation.Python.3.11_qbz5n2kfra8p0\\LocalCache\\local-packages\\Python311\\site-packages\\pandas\\core\\frame.py:778\u001b[0m, in \u001b[0;36mDataFrame.__init__\u001b[1;34m(self, data, index, columns, dtype, copy)\u001b[0m\n\u001b[0;32m    772\u001b[0m     mgr \u001b[38;5;241m=\u001b[39m \u001b[38;5;28mself\u001b[39m\u001b[38;5;241m.\u001b[39m_init_mgr(\n\u001b[0;32m    773\u001b[0m         data, axes\u001b[38;5;241m=\u001b[39m{\u001b[38;5;124m\"\u001b[39m\u001b[38;5;124mindex\u001b[39m\u001b[38;5;124m\"\u001b[39m: index, \u001b[38;5;124m\"\u001b[39m\u001b[38;5;124mcolumns\u001b[39m\u001b[38;5;124m\"\u001b[39m: columns}, dtype\u001b[38;5;241m=\u001b[39mdtype, copy\u001b[38;5;241m=\u001b[39mcopy\n\u001b[0;32m    774\u001b[0m     )\n\u001b[0;32m    776\u001b[0m \u001b[38;5;28;01melif\u001b[39;00m \u001b[38;5;28misinstance\u001b[39m(data, \u001b[38;5;28mdict\u001b[39m):\n\u001b[0;32m    777\u001b[0m     \u001b[38;5;66;03m# GH#38939 de facto copy defaults to False only in non-dict cases\u001b[39;00m\n\u001b[1;32m--> 778\u001b[0m     mgr \u001b[38;5;241m=\u001b[39m \u001b[43mdict_to_mgr\u001b[49m\u001b[43m(\u001b[49m\u001b[43mdata\u001b[49m\u001b[43m,\u001b[49m\u001b[43m \u001b[49m\u001b[43mindex\u001b[49m\u001b[43m,\u001b[49m\u001b[43m \u001b[49m\u001b[43mcolumns\u001b[49m\u001b[43m,\u001b[49m\u001b[43m \u001b[49m\u001b[43mdtype\u001b[49m\u001b[38;5;241;43m=\u001b[39;49m\u001b[43mdtype\u001b[49m\u001b[43m,\u001b[49m\u001b[43m \u001b[49m\u001b[43mcopy\u001b[49m\u001b[38;5;241;43m=\u001b[39;49m\u001b[43mcopy\u001b[49m\u001b[43m,\u001b[49m\u001b[43m \u001b[49m\u001b[43mtyp\u001b[49m\u001b[38;5;241;43m=\u001b[39;49m\u001b[43mmanager\u001b[49m\u001b[43m)\u001b[49m\n\u001b[0;32m    779\u001b[0m \u001b[38;5;28;01melif\u001b[39;00m \u001b[38;5;28misinstance\u001b[39m(data, ma\u001b[38;5;241m.\u001b[39mMaskedArray):\n\u001b[0;32m    780\u001b[0m     \u001b[38;5;28;01mfrom\u001b[39;00m \u001b[38;5;21;01mnumpy\u001b[39;00m\u001b[38;5;21;01m.\u001b[39;00m\u001b[38;5;21;01mma\u001b[39;00m \u001b[38;5;28;01mimport\u001b[39;00m mrecords\n",
      "File \u001b[1;32m~\\AppData\\Local\\Packages\\PythonSoftwareFoundation.Python.3.11_qbz5n2kfra8p0\\LocalCache\\local-packages\\Python311\\site-packages\\pandas\\core\\internals\\construction.py:503\u001b[0m, in \u001b[0;36mdict_to_mgr\u001b[1;34m(data, index, columns, dtype, typ, copy)\u001b[0m\n\u001b[0;32m    499\u001b[0m     \u001b[38;5;28;01melse\u001b[39;00m:\n\u001b[0;32m    500\u001b[0m         \u001b[38;5;66;03m# dtype check to exclude e.g. range objects, scalars\u001b[39;00m\n\u001b[0;32m    501\u001b[0m         arrays \u001b[38;5;241m=\u001b[39m [x\u001b[38;5;241m.\u001b[39mcopy() \u001b[38;5;28;01mif\u001b[39;00m \u001b[38;5;28mhasattr\u001b[39m(x, \u001b[38;5;124m\"\u001b[39m\u001b[38;5;124mdtype\u001b[39m\u001b[38;5;124m\"\u001b[39m) \u001b[38;5;28;01melse\u001b[39;00m x \u001b[38;5;28;01mfor\u001b[39;00m x \u001b[38;5;129;01min\u001b[39;00m arrays]\n\u001b[1;32m--> 503\u001b[0m \u001b[38;5;28;01mreturn\u001b[39;00m \u001b[43marrays_to_mgr\u001b[49m\u001b[43m(\u001b[49m\u001b[43marrays\u001b[49m\u001b[43m,\u001b[49m\u001b[43m \u001b[49m\u001b[43mcolumns\u001b[49m\u001b[43m,\u001b[49m\u001b[43m \u001b[49m\u001b[43mindex\u001b[49m\u001b[43m,\u001b[49m\u001b[43m \u001b[49m\u001b[43mdtype\u001b[49m\u001b[38;5;241;43m=\u001b[39;49m\u001b[43mdtype\u001b[49m\u001b[43m,\u001b[49m\u001b[43m \u001b[49m\u001b[43mtyp\u001b[49m\u001b[38;5;241;43m=\u001b[39;49m\u001b[43mtyp\u001b[49m\u001b[43m,\u001b[49m\u001b[43m \u001b[49m\u001b[43mconsolidate\u001b[49m\u001b[38;5;241;43m=\u001b[39;49m\u001b[43mcopy\u001b[49m\u001b[43m)\u001b[49m\n",
      "File \u001b[1;32m~\\AppData\\Local\\Packages\\PythonSoftwareFoundation.Python.3.11_qbz5n2kfra8p0\\LocalCache\\local-packages\\Python311\\site-packages\\pandas\\core\\internals\\construction.py:114\u001b[0m, in \u001b[0;36marrays_to_mgr\u001b[1;34m(arrays, columns, index, dtype, verify_integrity, typ, consolidate)\u001b[0m\n\u001b[0;32m    111\u001b[0m \u001b[38;5;28;01mif\u001b[39;00m verify_integrity:\n\u001b[0;32m    112\u001b[0m     \u001b[38;5;66;03m# figure out the index, if necessary\u001b[39;00m\n\u001b[0;32m    113\u001b[0m     \u001b[38;5;28;01mif\u001b[39;00m index \u001b[38;5;129;01mis\u001b[39;00m \u001b[38;5;28;01mNone\u001b[39;00m:\n\u001b[1;32m--> 114\u001b[0m         index \u001b[38;5;241m=\u001b[39m \u001b[43m_extract_index\u001b[49m\u001b[43m(\u001b[49m\u001b[43marrays\u001b[49m\u001b[43m)\u001b[49m\n\u001b[0;32m    115\u001b[0m     \u001b[38;5;28;01melse\u001b[39;00m:\n\u001b[0;32m    116\u001b[0m         index \u001b[38;5;241m=\u001b[39m ensure_index(index)\n",
      "File \u001b[1;32m~\\AppData\\Local\\Packages\\PythonSoftwareFoundation.Python.3.11_qbz5n2kfra8p0\\LocalCache\\local-packages\\Python311\\site-packages\\pandas\\core\\internals\\construction.py:667\u001b[0m, in \u001b[0;36m_extract_index\u001b[1;34m(data)\u001b[0m\n\u001b[0;32m    664\u001b[0m         \u001b[38;5;28;01mraise\u001b[39;00m \u001b[38;5;167;01mValueError\u001b[39;00m(\u001b[38;5;124m\"\u001b[39m\u001b[38;5;124mPer-column arrays must each be 1-dimensional\u001b[39m\u001b[38;5;124m\"\u001b[39m)\n\u001b[0;32m    666\u001b[0m \u001b[38;5;28;01mif\u001b[39;00m \u001b[38;5;129;01mnot\u001b[39;00m indexes \u001b[38;5;129;01mand\u001b[39;00m \u001b[38;5;129;01mnot\u001b[39;00m raw_lengths:\n\u001b[1;32m--> 667\u001b[0m     \u001b[38;5;28;01mraise\u001b[39;00m \u001b[38;5;167;01mValueError\u001b[39;00m(\u001b[38;5;124m\"\u001b[39m\u001b[38;5;124mIf using all scalar values, you must pass an index\u001b[39m\u001b[38;5;124m\"\u001b[39m)\n\u001b[0;32m    669\u001b[0m \u001b[38;5;28;01mif\u001b[39;00m have_series:\n\u001b[0;32m    670\u001b[0m     index \u001b[38;5;241m=\u001b[39m union_indexes(indexes)\n",
      "\u001b[1;31mValueError\u001b[0m: If using all scalar values, you must pass an index"
     ]
    }
   ],
   "source": [
    "test_order_id = 100\n",
    "test_order_items = pd.DataFrame({\n",
    "    ('100', 'Item1'): 1,\n",
    "    ('100', 'Item2'): 2,\n",
    "    ('100', 'Item3'): 3\n",
    "})\n",
    "recommended_items = recommend_item(test_order_id, test_order_items)\n",
    "print(recommended_items)"
   ]
  }
 ],
 "metadata": {
  "kernelspec": {
   "display_name": "DataSphere Kernel",
   "language": "python",
   "name": "python3"
  },
  "language_info": {
   "codemirror_mode": {
    "name": "ipython",
    "version": 3
   },
   "file_extension": ".py",
   "mimetype": "text/x-python",
   "name": "python",
   "nbconvert_exporter": "python",
   "pygments_lexer": "ipython3",
   "version": "3.11.9"
  },
  "notebookId": "e73e2496-374c-470d-91db-240a39c30c02",
  "notebookPath": "data/onlineShopping.ipynb"
 },
 "nbformat": 4,
 "nbformat_minor": 4
}
